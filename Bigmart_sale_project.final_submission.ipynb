{
 "cells": [
  {
   "cell_type": "markdown",
   "id": "50c5ff92",
   "metadata": {},
   "source": [
    "# Big Data Mart Sales Problem"
   ]
  },
  {
   "cell_type": "markdown",
   "id": "a4f693fa",
   "metadata": {},
   "source": [
    "# Problem Statement:\n",
    "The data scientists at BigMart have collected 2013 sales data for 1559 products across 10 stores in different cities. Also, certain attributes of each product and store have been defined. The aim is to build a predictive model and find out the sales of each product at a particular store.\n",
    "\n",
    "Using this model, BigMart will try to understand the properties of products and stores which play a key role in increasing the sales of their products.\n",
    "\n",
    "The dataset includes two files:\n",
    "\n",
    "- bigdatamart_Train.csv: Use this file for the model building purpose. \n",
    "\n",
    "- bigdatamart_Test.csv: Use this file for getting predictions from the trained model. \n",
    "\n",
    "Note: You can find the dataset in the link below.\n",
    "\n",
    "Downlaod Files:\n",
    "https://github.com/dsrscientist/bigdatamart_rep"
   ]
  },
  {
   "cell_type": "code",
   "execution_count": 1,
   "id": "833a7a16",
   "metadata": {},
   "outputs": [],
   "source": [
    "#Importing warning library to avoid any warnings'\n",
    "import warnings\n",
    "warnings.filterwarnings('ignore')"
   ]
  },
  {
   "cell_type": "code",
   "execution_count": 2,
   "id": "fac16448",
   "metadata": {},
   "outputs": [],
   "source": [
    "#import Required libraries\n",
    "import numpy as np\n",
    "import pandas as pd\n",
    "import seaborn as sns\n",
    "import matplotlib.pyplot as plt"
   ]
  },
  {
   "cell_type": "markdown",
   "id": "490fbf39",
   "metadata": {},
   "source": [
    "# Loading the dataset"
   ]
  },
  {
   "cell_type": "code",
   "execution_count": 3,
   "id": "00738511",
   "metadata": {},
   "outputs": [],
   "source": [
    "train=pd.read_csv('bigmart_sale_train.csv')\n",
    "test=pd.read_csv('bigmart_sale_test.csv')"
   ]
  },
  {
   "cell_type": "code",
   "execution_count": 4,
   "id": "f37a6f92",
   "metadata": {},
   "outputs": [
    {
     "data": {
      "text/html": [
       "<div>\n",
       "<style scoped>\n",
       "    .dataframe tbody tr th:only-of-type {\n",
       "        vertical-align: middle;\n",
       "    }\n",
       "\n",
       "    .dataframe tbody tr th {\n",
       "        vertical-align: top;\n",
       "    }\n",
       "\n",
       "    .dataframe thead th {\n",
       "        text-align: right;\n",
       "    }\n",
       "</style>\n",
       "<table border=\"1\" class=\"dataframe\">\n",
       "  <thead>\n",
       "    <tr style=\"text-align: right;\">\n",
       "      <th></th>\n",
       "      <th>Item_Identifier</th>\n",
       "      <th>Item_Weight</th>\n",
       "      <th>Item_Fat_Content</th>\n",
       "      <th>Item_Visibility</th>\n",
       "      <th>Item_Type</th>\n",
       "      <th>Item_MRP</th>\n",
       "      <th>Outlet_Identifier</th>\n",
       "      <th>Outlet_Establishment_Year</th>\n",
       "      <th>Outlet_Size</th>\n",
       "      <th>Outlet_Location_Type</th>\n",
       "      <th>Outlet_Type</th>\n",
       "      <th>Item_Outlet_Sales</th>\n",
       "    </tr>\n",
       "  </thead>\n",
       "  <tbody>\n",
       "    <tr>\n",
       "      <th>0</th>\n",
       "      <td>FDA15</td>\n",
       "      <td>9.30</td>\n",
       "      <td>Low Fat</td>\n",
       "      <td>0.016047</td>\n",
       "      <td>Dairy</td>\n",
       "      <td>249.8092</td>\n",
       "      <td>OUT049</td>\n",
       "      <td>1999</td>\n",
       "      <td>Medium</td>\n",
       "      <td>Tier 1</td>\n",
       "      <td>Supermarket Type1</td>\n",
       "      <td>3735.1380</td>\n",
       "    </tr>\n",
       "    <tr>\n",
       "      <th>1</th>\n",
       "      <td>DRC01</td>\n",
       "      <td>5.92</td>\n",
       "      <td>Regular</td>\n",
       "      <td>0.019278</td>\n",
       "      <td>Soft Drinks</td>\n",
       "      <td>48.2692</td>\n",
       "      <td>OUT018</td>\n",
       "      <td>2009</td>\n",
       "      <td>Medium</td>\n",
       "      <td>Tier 3</td>\n",
       "      <td>Supermarket Type2</td>\n",
       "      <td>443.4228</td>\n",
       "    </tr>\n",
       "    <tr>\n",
       "      <th>2</th>\n",
       "      <td>FDN15</td>\n",
       "      <td>17.50</td>\n",
       "      <td>Low Fat</td>\n",
       "      <td>0.016760</td>\n",
       "      <td>Meat</td>\n",
       "      <td>141.6180</td>\n",
       "      <td>OUT049</td>\n",
       "      <td>1999</td>\n",
       "      <td>Medium</td>\n",
       "      <td>Tier 1</td>\n",
       "      <td>Supermarket Type1</td>\n",
       "      <td>2097.2700</td>\n",
       "    </tr>\n",
       "    <tr>\n",
       "      <th>3</th>\n",
       "      <td>FDX07</td>\n",
       "      <td>19.20</td>\n",
       "      <td>Regular</td>\n",
       "      <td>0.000000</td>\n",
       "      <td>Fruits and Vegetables</td>\n",
       "      <td>182.0950</td>\n",
       "      <td>OUT010</td>\n",
       "      <td>1998</td>\n",
       "      <td>NaN</td>\n",
       "      <td>Tier 3</td>\n",
       "      <td>Grocery Store</td>\n",
       "      <td>732.3800</td>\n",
       "    </tr>\n",
       "    <tr>\n",
       "      <th>4</th>\n",
       "      <td>NCD19</td>\n",
       "      <td>8.93</td>\n",
       "      <td>Low Fat</td>\n",
       "      <td>0.000000</td>\n",
       "      <td>Household</td>\n",
       "      <td>53.8614</td>\n",
       "      <td>OUT013</td>\n",
       "      <td>1987</td>\n",
       "      <td>High</td>\n",
       "      <td>Tier 3</td>\n",
       "      <td>Supermarket Type1</td>\n",
       "      <td>994.7052</td>\n",
       "    </tr>\n",
       "  </tbody>\n",
       "</table>\n",
       "</div>"
      ],
      "text/plain": [
       "  Item_Identifier  Item_Weight Item_Fat_Content  Item_Visibility  \\\n",
       "0           FDA15         9.30          Low Fat         0.016047   \n",
       "1           DRC01         5.92          Regular         0.019278   \n",
       "2           FDN15        17.50          Low Fat         0.016760   \n",
       "3           FDX07        19.20          Regular         0.000000   \n",
       "4           NCD19         8.93          Low Fat         0.000000   \n",
       "\n",
       "               Item_Type  Item_MRP Outlet_Identifier  \\\n",
       "0                  Dairy  249.8092            OUT049   \n",
       "1            Soft Drinks   48.2692            OUT018   \n",
       "2                   Meat  141.6180            OUT049   \n",
       "3  Fruits and Vegetables  182.0950            OUT010   \n",
       "4              Household   53.8614            OUT013   \n",
       "\n",
       "   Outlet_Establishment_Year Outlet_Size Outlet_Location_Type  \\\n",
       "0                       1999      Medium               Tier 1   \n",
       "1                       2009      Medium               Tier 3   \n",
       "2                       1999      Medium               Tier 1   \n",
       "3                       1998         NaN               Tier 3   \n",
       "4                       1987        High               Tier 3   \n",
       "\n",
       "         Outlet_Type  Item_Outlet_Sales  \n",
       "0  Supermarket Type1          3735.1380  \n",
       "1  Supermarket Type2           443.4228  \n",
       "2  Supermarket Type1          2097.2700  \n",
       "3      Grocery Store           732.3800  \n",
       "4  Supermarket Type1           994.7052  "
      ]
     },
     "execution_count": 4,
     "metadata": {},
     "output_type": "execute_result"
    }
   ],
   "source": [
    "#Train.data\n",
    "train.head()"
   ]
  },
  {
   "cell_type": "code",
   "execution_count": 5,
   "id": "b563eae9",
   "metadata": {},
   "outputs": [
    {
     "data": {
      "text/html": [
       "<div>\n",
       "<style scoped>\n",
       "    .dataframe tbody tr th:only-of-type {\n",
       "        vertical-align: middle;\n",
       "    }\n",
       "\n",
       "    .dataframe tbody tr th {\n",
       "        vertical-align: top;\n",
       "    }\n",
       "\n",
       "    .dataframe thead th {\n",
       "        text-align: right;\n",
       "    }\n",
       "</style>\n",
       "<table border=\"1\" class=\"dataframe\">\n",
       "  <thead>\n",
       "    <tr style=\"text-align: right;\">\n",
       "      <th></th>\n",
       "      <th>Item_Identifier</th>\n",
       "      <th>Item_Weight</th>\n",
       "      <th>Item_Fat_Content</th>\n",
       "      <th>Item_Visibility</th>\n",
       "      <th>Item_Type</th>\n",
       "      <th>Item_MRP</th>\n",
       "      <th>Outlet_Identifier</th>\n",
       "      <th>Outlet_Establishment_Year</th>\n",
       "      <th>Outlet_Size</th>\n",
       "      <th>Outlet_Location_Type</th>\n",
       "      <th>Outlet_Type</th>\n",
       "    </tr>\n",
       "  </thead>\n",
       "  <tbody>\n",
       "    <tr>\n",
       "      <th>0</th>\n",
       "      <td>FDW58</td>\n",
       "      <td>20.750</td>\n",
       "      <td>Low Fat</td>\n",
       "      <td>0.007565</td>\n",
       "      <td>Snack Foods</td>\n",
       "      <td>107.8622</td>\n",
       "      <td>OUT049</td>\n",
       "      <td>1999</td>\n",
       "      <td>Medium</td>\n",
       "      <td>Tier 1</td>\n",
       "      <td>Supermarket Type1</td>\n",
       "    </tr>\n",
       "    <tr>\n",
       "      <th>1</th>\n",
       "      <td>FDW14</td>\n",
       "      <td>8.300</td>\n",
       "      <td>reg</td>\n",
       "      <td>0.038428</td>\n",
       "      <td>Dairy</td>\n",
       "      <td>87.3198</td>\n",
       "      <td>OUT017</td>\n",
       "      <td>2007</td>\n",
       "      <td>NaN</td>\n",
       "      <td>Tier 2</td>\n",
       "      <td>Supermarket Type1</td>\n",
       "    </tr>\n",
       "    <tr>\n",
       "      <th>2</th>\n",
       "      <td>NCN55</td>\n",
       "      <td>14.600</td>\n",
       "      <td>Low Fat</td>\n",
       "      <td>0.099575</td>\n",
       "      <td>Others</td>\n",
       "      <td>241.7538</td>\n",
       "      <td>OUT010</td>\n",
       "      <td>1998</td>\n",
       "      <td>NaN</td>\n",
       "      <td>Tier 3</td>\n",
       "      <td>Grocery Store</td>\n",
       "    </tr>\n",
       "    <tr>\n",
       "      <th>3</th>\n",
       "      <td>FDQ58</td>\n",
       "      <td>7.315</td>\n",
       "      <td>Low Fat</td>\n",
       "      <td>0.015388</td>\n",
       "      <td>Snack Foods</td>\n",
       "      <td>155.0340</td>\n",
       "      <td>OUT017</td>\n",
       "      <td>2007</td>\n",
       "      <td>NaN</td>\n",
       "      <td>Tier 2</td>\n",
       "      <td>Supermarket Type1</td>\n",
       "    </tr>\n",
       "    <tr>\n",
       "      <th>4</th>\n",
       "      <td>FDY38</td>\n",
       "      <td>NaN</td>\n",
       "      <td>Regular</td>\n",
       "      <td>0.118599</td>\n",
       "      <td>Dairy</td>\n",
       "      <td>234.2300</td>\n",
       "      <td>OUT027</td>\n",
       "      <td>1985</td>\n",
       "      <td>Medium</td>\n",
       "      <td>Tier 3</td>\n",
       "      <td>Supermarket Type3</td>\n",
       "    </tr>\n",
       "  </tbody>\n",
       "</table>\n",
       "</div>"
      ],
      "text/plain": [
       "  Item_Identifier  Item_Weight Item_Fat_Content  Item_Visibility    Item_Type  \\\n",
       "0           FDW58       20.750          Low Fat         0.007565  Snack Foods   \n",
       "1           FDW14        8.300              reg         0.038428        Dairy   \n",
       "2           NCN55       14.600          Low Fat         0.099575       Others   \n",
       "3           FDQ58        7.315          Low Fat         0.015388  Snack Foods   \n",
       "4           FDY38          NaN          Regular         0.118599        Dairy   \n",
       "\n",
       "   Item_MRP Outlet_Identifier  Outlet_Establishment_Year Outlet_Size  \\\n",
       "0  107.8622            OUT049                       1999      Medium   \n",
       "1   87.3198            OUT017                       2007         NaN   \n",
       "2  241.7538            OUT010                       1998         NaN   \n",
       "3  155.0340            OUT017                       2007         NaN   \n",
       "4  234.2300            OUT027                       1985      Medium   \n",
       "\n",
       "  Outlet_Location_Type        Outlet_Type  \n",
       "0               Tier 1  Supermarket Type1  \n",
       "1               Tier 2  Supermarket Type1  \n",
       "2               Tier 3      Grocery Store  \n",
       "3               Tier 2  Supermarket Type1  \n",
       "4               Tier 3  Supermarket Type3  "
      ]
     },
     "execution_count": 5,
     "metadata": {},
     "output_type": "execute_result"
    }
   ],
   "source": [
    "#Test data\n",
    "test.head()"
   ]
  },
  {
   "cell_type": "markdown",
   "id": "b9813dc2",
   "metadata": {},
   "source": [
    "As there are 2 separate datasets, we can combine them together into  a single dataset so that it will be easier to analyze and proceed further.  We can combine them using concat operaation.\n"
   ]
  },
  {
   "cell_type": "code",
   "execution_count": 6,
   "id": "f87eae96",
   "metadata": {},
   "outputs": [
    {
     "name": "stdout",
     "output_type": "stream",
     "text": [
      "(8523, 13) (5681, 13) (14204, 13)\n"
     ]
    }
   ],
   "source": [
    "#combining the 2 datasets using concat method\n",
    "train['source']='train'  #For identifying train data\n",
    "test['source']='test'    #For identifying test data\n",
    "test['Item_Outlet_Sales']=0   # As we don't know the item outlet sales in test, we are assuming as 0\n",
    "df=pd.concat([test,train],ignore_index=True)   #Combining using concat\n",
    "print(train.shape,test.shape,df.shape)  # Checking out the dimensions separately after combining\n",
    "\n",
    "\n"
   ]
  },
  {
   "cell_type": "code",
   "execution_count": 8,
   "id": "a188fde2",
   "metadata": {},
   "outputs": [
    {
     "data": {
      "text/html": [
       "<div>\n",
       "<style scoped>\n",
       "    .dataframe tbody tr th:only-of-type {\n",
       "        vertical-align: middle;\n",
       "    }\n",
       "\n",
       "    .dataframe tbody tr th {\n",
       "        vertical-align: top;\n",
       "    }\n",
       "\n",
       "    .dataframe thead th {\n",
       "        text-align: right;\n",
       "    }\n",
       "</style>\n",
       "<table border=\"1\" class=\"dataframe\">\n",
       "  <thead>\n",
       "    <tr style=\"text-align: right;\">\n",
       "      <th></th>\n",
       "      <th>Item_Identifier</th>\n",
       "      <th>Item_Weight</th>\n",
       "      <th>Item_Fat_Content</th>\n",
       "      <th>Item_Visibility</th>\n",
       "      <th>Item_Type</th>\n",
       "      <th>Item_MRP</th>\n",
       "      <th>Outlet_Identifier</th>\n",
       "      <th>Outlet_Establishment_Year</th>\n",
       "      <th>Outlet_Size</th>\n",
       "      <th>Outlet_Location_Type</th>\n",
       "      <th>Outlet_Type</th>\n",
       "      <th>source</th>\n",
       "      <th>Item_Outlet_Sales</th>\n",
       "    </tr>\n",
       "  </thead>\n",
       "  <tbody>\n",
       "    <tr>\n",
       "      <th>0</th>\n",
       "      <td>FDW58</td>\n",
       "      <td>20.750</td>\n",
       "      <td>Low Fat</td>\n",
       "      <td>0.007565</td>\n",
       "      <td>Snack Foods</td>\n",
       "      <td>107.8622</td>\n",
       "      <td>OUT049</td>\n",
       "      <td>1999</td>\n",
       "      <td>Medium</td>\n",
       "      <td>Tier 1</td>\n",
       "      <td>Supermarket Type1</td>\n",
       "      <td>test</td>\n",
       "      <td>0.0000</td>\n",
       "    </tr>\n",
       "    <tr>\n",
       "      <th>1</th>\n",
       "      <td>FDW14</td>\n",
       "      <td>8.300</td>\n",
       "      <td>reg</td>\n",
       "      <td>0.038428</td>\n",
       "      <td>Dairy</td>\n",
       "      <td>87.3198</td>\n",
       "      <td>OUT017</td>\n",
       "      <td>2007</td>\n",
       "      <td>NaN</td>\n",
       "      <td>Tier 2</td>\n",
       "      <td>Supermarket Type1</td>\n",
       "      <td>test</td>\n",
       "      <td>0.0000</td>\n",
       "    </tr>\n",
       "    <tr>\n",
       "      <th>2</th>\n",
       "      <td>NCN55</td>\n",
       "      <td>14.600</td>\n",
       "      <td>Low Fat</td>\n",
       "      <td>0.099575</td>\n",
       "      <td>Others</td>\n",
       "      <td>241.7538</td>\n",
       "      <td>OUT010</td>\n",
       "      <td>1998</td>\n",
       "      <td>NaN</td>\n",
       "      <td>Tier 3</td>\n",
       "      <td>Grocery Store</td>\n",
       "      <td>test</td>\n",
       "      <td>0.0000</td>\n",
       "    </tr>\n",
       "    <tr>\n",
       "      <th>3</th>\n",
       "      <td>FDQ58</td>\n",
       "      <td>7.315</td>\n",
       "      <td>Low Fat</td>\n",
       "      <td>0.015388</td>\n",
       "      <td>Snack Foods</td>\n",
       "      <td>155.0340</td>\n",
       "      <td>OUT017</td>\n",
       "      <td>2007</td>\n",
       "      <td>NaN</td>\n",
       "      <td>Tier 2</td>\n",
       "      <td>Supermarket Type1</td>\n",
       "      <td>test</td>\n",
       "      <td>0.0000</td>\n",
       "    </tr>\n",
       "    <tr>\n",
       "      <th>4</th>\n",
       "      <td>FDY38</td>\n",
       "      <td>NaN</td>\n",
       "      <td>Regular</td>\n",
       "      <td>0.118599</td>\n",
       "      <td>Dairy</td>\n",
       "      <td>234.2300</td>\n",
       "      <td>OUT027</td>\n",
       "      <td>1985</td>\n",
       "      <td>Medium</td>\n",
       "      <td>Tier 3</td>\n",
       "      <td>Supermarket Type3</td>\n",
       "      <td>test</td>\n",
       "      <td>0.0000</td>\n",
       "    </tr>\n",
       "    <tr>\n",
       "      <th>...</th>\n",
       "      <td>...</td>\n",
       "      <td>...</td>\n",
       "      <td>...</td>\n",
       "      <td>...</td>\n",
       "      <td>...</td>\n",
       "      <td>...</td>\n",
       "      <td>...</td>\n",
       "      <td>...</td>\n",
       "      <td>...</td>\n",
       "      <td>...</td>\n",
       "      <td>...</td>\n",
       "      <td>...</td>\n",
       "      <td>...</td>\n",
       "    </tr>\n",
       "    <tr>\n",
       "      <th>14199</th>\n",
       "      <td>FDF22</td>\n",
       "      <td>6.865</td>\n",
       "      <td>Low Fat</td>\n",
       "      <td>0.056783</td>\n",
       "      <td>Snack Foods</td>\n",
       "      <td>214.5218</td>\n",
       "      <td>OUT013</td>\n",
       "      <td>1987</td>\n",
       "      <td>High</td>\n",
       "      <td>Tier 3</td>\n",
       "      <td>Supermarket Type1</td>\n",
       "      <td>train</td>\n",
       "      <td>2778.3834</td>\n",
       "    </tr>\n",
       "    <tr>\n",
       "      <th>14200</th>\n",
       "      <td>FDS36</td>\n",
       "      <td>8.380</td>\n",
       "      <td>Regular</td>\n",
       "      <td>0.046982</td>\n",
       "      <td>Baking Goods</td>\n",
       "      <td>108.1570</td>\n",
       "      <td>OUT045</td>\n",
       "      <td>2002</td>\n",
       "      <td>NaN</td>\n",
       "      <td>Tier 2</td>\n",
       "      <td>Supermarket Type1</td>\n",
       "      <td>train</td>\n",
       "      <td>549.2850</td>\n",
       "    </tr>\n",
       "    <tr>\n",
       "      <th>14201</th>\n",
       "      <td>NCJ29</td>\n",
       "      <td>10.600</td>\n",
       "      <td>Low Fat</td>\n",
       "      <td>0.035186</td>\n",
       "      <td>Health and Hygiene</td>\n",
       "      <td>85.1224</td>\n",
       "      <td>OUT035</td>\n",
       "      <td>2004</td>\n",
       "      <td>Small</td>\n",
       "      <td>Tier 2</td>\n",
       "      <td>Supermarket Type1</td>\n",
       "      <td>train</td>\n",
       "      <td>1193.1136</td>\n",
       "    </tr>\n",
       "    <tr>\n",
       "      <th>14202</th>\n",
       "      <td>FDN46</td>\n",
       "      <td>7.210</td>\n",
       "      <td>Regular</td>\n",
       "      <td>0.145221</td>\n",
       "      <td>Snack Foods</td>\n",
       "      <td>103.1332</td>\n",
       "      <td>OUT018</td>\n",
       "      <td>2009</td>\n",
       "      <td>Medium</td>\n",
       "      <td>Tier 3</td>\n",
       "      <td>Supermarket Type2</td>\n",
       "      <td>train</td>\n",
       "      <td>1845.5976</td>\n",
       "    </tr>\n",
       "    <tr>\n",
       "      <th>14203</th>\n",
       "      <td>DRG01</td>\n",
       "      <td>14.800</td>\n",
       "      <td>Low Fat</td>\n",
       "      <td>0.044878</td>\n",
       "      <td>Soft Drinks</td>\n",
       "      <td>75.4670</td>\n",
       "      <td>OUT046</td>\n",
       "      <td>1997</td>\n",
       "      <td>Small</td>\n",
       "      <td>Tier 1</td>\n",
       "      <td>Supermarket Type1</td>\n",
       "      <td>train</td>\n",
       "      <td>765.6700</td>\n",
       "    </tr>\n",
       "  </tbody>\n",
       "</table>\n",
       "<p>14204 rows × 13 columns</p>\n",
       "</div>"
      ],
      "text/plain": [
       "      Item_Identifier  Item_Weight Item_Fat_Content  Item_Visibility  \\\n",
       "0               FDW58       20.750          Low Fat         0.007565   \n",
       "1               FDW14        8.300              reg         0.038428   \n",
       "2               NCN55       14.600          Low Fat         0.099575   \n",
       "3               FDQ58        7.315          Low Fat         0.015388   \n",
       "4               FDY38          NaN          Regular         0.118599   \n",
       "...               ...          ...              ...              ...   \n",
       "14199           FDF22        6.865          Low Fat         0.056783   \n",
       "14200           FDS36        8.380          Regular         0.046982   \n",
       "14201           NCJ29       10.600          Low Fat         0.035186   \n",
       "14202           FDN46        7.210          Regular         0.145221   \n",
       "14203           DRG01       14.800          Low Fat         0.044878   \n",
       "\n",
       "                Item_Type  Item_MRP Outlet_Identifier  \\\n",
       "0             Snack Foods  107.8622            OUT049   \n",
       "1                   Dairy   87.3198            OUT017   \n",
       "2                  Others  241.7538            OUT010   \n",
       "3             Snack Foods  155.0340            OUT017   \n",
       "4                   Dairy  234.2300            OUT027   \n",
       "...                   ...       ...               ...   \n",
       "14199         Snack Foods  214.5218            OUT013   \n",
       "14200        Baking Goods  108.1570            OUT045   \n",
       "14201  Health and Hygiene   85.1224            OUT035   \n",
       "14202         Snack Foods  103.1332            OUT018   \n",
       "14203         Soft Drinks   75.4670            OUT046   \n",
       "\n",
       "       Outlet_Establishment_Year Outlet_Size Outlet_Location_Type  \\\n",
       "0                           1999      Medium               Tier 1   \n",
       "1                           2007         NaN               Tier 2   \n",
       "2                           1998         NaN               Tier 3   \n",
       "3                           2007         NaN               Tier 2   \n",
       "4                           1985      Medium               Tier 3   \n",
       "...                          ...         ...                  ...   \n",
       "14199                       1987        High               Tier 3   \n",
       "14200                       2002         NaN               Tier 2   \n",
       "14201                       2004       Small               Tier 2   \n",
       "14202                       2009      Medium               Tier 3   \n",
       "14203                       1997       Small               Tier 1   \n",
       "\n",
       "             Outlet_Type source  Item_Outlet_Sales  \n",
       "0      Supermarket Type1   test             0.0000  \n",
       "1      Supermarket Type1   test             0.0000  \n",
       "2          Grocery Store   test             0.0000  \n",
       "3      Supermarket Type1   test             0.0000  \n",
       "4      Supermarket Type3   test             0.0000  \n",
       "...                  ...    ...                ...  \n",
       "14199  Supermarket Type1  train          2778.3834  \n",
       "14200  Supermarket Type1  train           549.2850  \n",
       "14201  Supermarket Type1  train          1193.1136  \n",
       "14202  Supermarket Type2  train          1845.5976  \n",
       "14203  Supermarket Type1  train           765.6700  \n",
       "\n",
       "[14204 rows x 13 columns]"
      ]
     },
     "execution_count": 8,
     "metadata": {},
     "output_type": "execute_result"
    }
   ],
   "source": [
    "#After combining loading the head of df\n",
    "df"
   ]
  },
  {
   "cell_type": "code",
   "execution_count": 9,
   "id": "731c18a6",
   "metadata": {},
   "outputs": [
    {
     "data": {
      "text/plain": [
       "Index(['Item_Identifier', 'Item_Weight', 'Item_Fat_Content', 'Item_Visibility',\n",
       "       'Item_Type', 'Item_MRP', 'Outlet_Identifier',\n",
       "       'Outlet_Establishment_Year', 'Outlet_Size', 'Outlet_Location_Type',\n",
       "       'Outlet_Type', 'source', 'Item_Outlet_Sales'],\n",
       "      dtype='object')"
      ]
     },
     "execution_count": 9,
     "metadata": {},
     "output_type": "execute_result"
    }
   ],
   "source": [
    "df.columns"
   ]
  },
  {
   "cell_type": "markdown",
   "id": "16f74a86",
   "metadata": {},
   "source": [
    "# Dataset Description"
   ]
  },
  {
   "cell_type": "markdown",
   "id": "0a026a2c",
   "metadata": {},
   "source": [
    "\n",
    "-> The data scientists at BigMart have collected the year 2013 sales data for 1559 products across 10 stores in different cities. Also, certain attributes of each product and store have been defined.\n",
    "\n",
    "-> The attributes are:\n",
    "\n",
    "1.Item_Identifier - Unique Item ID\n",
    "\n",
    "2.Item_Weight - Weight of the item\n",
    "\n",
    "3.Item_Fat_Content - Kind of fat content present in the item\n",
    "\n",
    "4.Item_Visibility - The % of total display area of all item in a store allocated to the particular item\n",
    "\n",
    "5.Item_Type - The category to which the item belongs\n",
    "\n",
    "6.Item_MRP - Maximum Retail Price (list price) of the item\n",
    "\n",
    "7.Outlet_Identifier - Unique Outlet ID\n",
    "\n",
    "8.Outlet_Establishment_Year - Year when the outlet was built\n",
    "\n",
    "9.Outlet_Size - Size of the outlet in terms of ground covered\n",
    "\n",
    "10.Outlet_Location_Type - the kind of area where the outlet is present\n",
    "\n",
    "11.Outlet_Type - the kind of outlet where the items are present\n",
    "\n",
    "12.source - to differentiate which data is train or test data\n",
    "\n",
    "13.Item_Outlet_Sales - total number of sales of each item in a particular outlet\n",
    "\n",
    "-> Our aim is to predict the total number of sales of each item in a particular outlet ,i.e, Item_Outlet_Sales and since the given data is continuous, we need to follow regression analysis."
   ]
  },
  {
   "cell_type": "code",
   "execution_count": 10,
   "id": "23549a65",
   "metadata": {},
   "outputs": [
    {
     "name": "stdout",
     "output_type": "stream",
     "text": [
      "<class 'pandas.core.frame.DataFrame'>\n",
      "RangeIndex: 14204 entries, 0 to 14203\n",
      "Data columns (total 13 columns):\n",
      " #   Column                     Non-Null Count  Dtype  \n",
      "---  ------                     --------------  -----  \n",
      " 0   Item_Identifier            14204 non-null  object \n",
      " 1   Item_Weight                11765 non-null  float64\n",
      " 2   Item_Fat_Content           14204 non-null  object \n",
      " 3   Item_Visibility            14204 non-null  float64\n",
      " 4   Item_Type                  14204 non-null  object \n",
      " 5   Item_MRP                   14204 non-null  float64\n",
      " 6   Outlet_Identifier          14204 non-null  object \n",
      " 7   Outlet_Establishment_Year  14204 non-null  int64  \n",
      " 8   Outlet_Size                10188 non-null  object \n",
      " 9   Outlet_Location_Type       14204 non-null  object \n",
      " 10  Outlet_Type                14204 non-null  object \n",
      " 11  source                     14204 non-null  object \n",
      " 12  Item_Outlet_Sales          14204 non-null  float64\n",
      "dtypes: float64(4), int64(1), object(8)\n",
      "memory usage: 1.4+ MB\n"
     ]
    }
   ],
   "source": [
    "df.info()"
   ]
  },
  {
   "cell_type": "markdown",
   "id": "9384d9c6",
   "metadata": {},
   "source": [
    "There are columns having categorical data and we need to encode them in further analysis"
   ]
  },
  {
   "cell_type": "code",
   "execution_count": 11,
   "id": "33f603e5",
   "metadata": {},
   "outputs": [
    {
     "data": {
      "text/plain": [
       "Item_Identifier                 0\n",
       "Item_Weight                  2439\n",
       "Item_Fat_Content                0\n",
       "Item_Visibility                 0\n",
       "Item_Type                       0\n",
       "Item_MRP                        0\n",
       "Outlet_Identifier               0\n",
       "Outlet_Establishment_Year       0\n",
       "Outlet_Size                  4016\n",
       "Outlet_Location_Type            0\n",
       "Outlet_Type                     0\n",
       "source                          0\n",
       "Item_Outlet_Sales               0\n",
       "dtype: int64"
      ]
     },
     "execution_count": 11,
     "metadata": {},
     "output_type": "execute_result"
    }
   ],
   "source": [
    "df.isnull().sum()"
   ]
  },
  {
   "cell_type": "markdown",
   "id": "ca607e35",
   "metadata": {},
   "source": [
    "There are missing values in Item_Weight and Outlet_Size ,we need to fill this items "
   ]
  },
  {
   "cell_type": "markdown",
   "id": "439a39d5",
   "metadata": {},
   "source": [
    "# Exploratory Data Analysis"
   ]
  },
  {
   "cell_type": "markdown",
   "id": "70eb2c08",
   "metadata": {},
   "source": [
    "# Subplot and Barplot"
   ]
  },
  {
   "cell_type": "code",
   "execution_count": 12,
   "id": "54b9263c",
   "metadata": {},
   "outputs": [
    {
     "data": {
      "text/plain": [
       "Text(0.5, 1.0, 'Outlet_Establishment_Year vs. Item_Outlet_Sales')"
      ]
     },
     "execution_count": 12,
     "metadata": {},
     "output_type": "execute_result"
    },
    {
     "data": {
      "image/png": "[encoded data removed]",
      "text/plain": [
       "<Figure size 432x288 with 1 Axes>"
      ]
     },
     "metadata": {
      "needs_background": "light"
     },
     "output_type": "display_data"
    }
   ],
   "source": [
    "#Checking out the bar plot between Outlet_Estblishment_year vs  Item_Outlet_sales\n",
    "outlet = sns.barplot(x='Outlet_Establishment_Year',y = 'Item_Outlet_Sales',data=df,palette=\"Set1\")\n",
    "outlet.set_title(\"Outlet_Establishment_Year vs. Item_Outlet_Sales\", fontsize=15)\n",
    "\n"
   ]
  },
  {
   "cell_type": "markdown",
   "id": "11b0f9c7",
   "metadata": {},
   "source": [
    "We can see that the outlets are established from the years 1985 to 2009.  Maximum sales had happend in the year 1985 whereas minimum sales had happened in the year  1998 \n"
   ]
  },
  {
   "cell_type": "code",
   "execution_count": 16,
   "id": "b7c06eb4",
   "metadata": {},
   "outputs": [
    {
     "data": {
      "text/plain": [
       "Text(0.5, 1.0, 'Outlet_Identifier vs. Item_Outlet_Sales')"
      ]
     },
     "execution_count": 16,
     "metadata": {},
     "output_type": "execute_result"
    },
    {
     "data": {
      "image/png": "[encoded data removed]",
      "text/plain": [
       "<Figure size 1080x864 with 1 Axes>"
      ]
     },
     "metadata": {
      "needs_background": "light"
     },
     "output_type": "display_data"
    }
   ],
   "source": [
    "#Checking out the bar plot between Outlet_Identifier vs Item_Outlet_Sales\n",
    "plt.figure(figsize = (15,12)) #Size of the figure\n",
    "plt.subplot(211) #2 rows,1 column and 1 means we wish to place the plot in left column\n",
    "OI=sns.barplot(x='Outlet_Identifier', y='Item_Outlet_Sales', data=df, palette=\"Set1\")\n",
    "OI.set_title(\"Outlet_Identifier vs. Item_Outlet_Sales\", fontsize=15)\n",
    "\n"
   ]
  },
  {
   "cell_type": "markdown",
   "id": "a98c556f",
   "metadata": {},
   "source": [
    "This graph explains us about the item outlet sales happened in various kinds of outlets. Maximum sales had happened in OUT027 whereas minimum sales had happened in both OUT010 and OUT019 respectively."
   ]
  },
  {
   "cell_type": "code",
   "execution_count": 20,
   "id": "11227c1c",
   "metadata": {},
   "outputs": [
    {
     "data": {
      "image/png": "[encoded data removed]",
      "text/plain": [
       "<Figure size 1080x864 with 1 Axes>"
      ]
     },
     "metadata": {
      "needs_background": "light"
     },
     "output_type": "display_data"
    }
   ],
   "source": [
    "#Checking out the bar plot between Item_Type vs Item_Outlet_Sales\n",
    "plt.figure(figsize = (15,12)) #Size of the figure\n",
    "plt.subplot(312) #3 rows,1 column and 2 is the index of subplot\n",
    "item=sns.barplot(x='Item_Type', y='Item_Outlet_Sales', data=df, palette=\"Set1\")\n",
    "item.set_title(\"Item_Type vs. Item_Outlet_Sales\", fontsize=15)\n",
    "plt.setp(item.get_xticklabels(), rotation=45) \n",
    "#Getting the xlabel and Rotating it to 45degrees so that we can see what's written\n",
    "\n",
    "#Adjusting the subplot parameters like width, height and position of top edge\n",
    "plt.subplots_adjust(wspace = 0.1, hspace = 0.4,top = 1.2)"
   ]
  },
  {
   "cell_type": "markdown",
   "id": "55810b55",
   "metadata": {},
   "source": [
    "The graph explains about the items sold in each outlets. Maximum items that were sold are Seafood whereas Minimum items that were sold are: Baking Goods and Other items"
   ]
  },
  {
   "cell_type": "code",
   "execution_count": 21,
   "id": "caffc799",
   "metadata": {},
   "outputs": [
    {
     "data": {
      "text/plain": [
       "<AxesSubplot:xlabel='Outlet_Type', ylabel='Item_Outlet_Sales'>"
      ]
     },
     "execution_count": 21,
     "metadata": {},
     "output_type": "execute_result"
    },
    {
     "data": {
      "image/png": "[encoded data removed]",
      "text/plain": [
       "<Figure size 1080x864 with 1 Axes>"
      ]
     },
     "metadata": {
      "needs_background": "light"
     },
     "output_type": "display_data"
    }
   ],
   "source": [
    "#Checking the sales happened according to type of outlets\n",
    "plt.figure(figsize = (15,12)) #Size of the figure\n",
    "plt.subplot(313) #3 rows,1 column and 3 is the index of subplot\n",
    "sns.barplot(x='Outlet_Type', y='Item_Outlet_Sales', data=df, palette=\"Set1\")"
   ]
  },
  {
   "cell_type": "markdown",
   "id": "709894d2",
   "metadata": {},
   "source": [
    "The graph explains about the items sold in Outlet type. Maximum sales were happened in Supermarket Type3 and minimum sales are happened in Grocery Store"
   ]
  },
  {
   "cell_type": "code",
   "execution_count": 22,
   "id": "e7e502ad",
   "metadata": {},
   "outputs": [
    {
     "data": {
      "image/png": "[encoded data removed]",
      "text/plain": [
       "<Figure size 576x504 with 1 Axes>"
      ]
     },
     "metadata": {
      "needs_background": "light"
     },
     "output_type": "display_data"
    }
   ],
   "source": [
    "#Checking outlet size vs item outlet sales relationship\n",
    "plt.figure(figsize = (8,7)) \n",
    "\n",
    "plt.subplot(311)\n",
    "sns.barplot(x='Outlet_Size', y='Item_Outlet_Sales', data=df, palette=\"Set1\")\n",
    "plt.subplots_adjust(wspace = 0.2, hspace = 0.4,top = 1.4) #Adjusting the subplot"
   ]
  },
  {
   "cell_type": "markdown",
   "id": "009f2e5f",
   "metadata": {},
   "source": [
    "Maximum sales had happened in Medium size outlets whereas minimum sales had happened in small size outlets"
   ]
  },
  {
   "cell_type": "markdown",
   "id": "17255d30",
   "metadata": {},
   "source": [
    "# Scatter plot"
   ]
  },
  {
   "cell_type": "code",
   "execution_count": 23,
   "id": "8f846dfa",
   "metadata": {},
   "outputs": [
    {
     "data": {
      "text/plain": [
       "<AxesSubplot:xlabel='Item_Outlet_Sales', ylabel='Item_MRP'>"
      ]
     },
     "execution_count": 23,
     "metadata": {},
     "output_type": "execute_result"
    },
    {
     "data": {
      "image/png": "[encoded data removed]",
      "text/plain": [
       "<Figure size 432x288 with 1 Axes>"
      ]
     },
     "metadata": {
      "needs_background": "light"
     },
     "output_type": "display_data"
    }
   ],
   "source": [
    "sns.scatterplot(x='Item_Outlet_Sales',y='Item_MRP',data=df)"
   ]
  },
  {
   "cell_type": "code",
   "execution_count": 24,
   "id": "765078b4",
   "metadata": {},
   "outputs": [
    {
     "data": {
      "text/plain": [
       "<AxesSubplot:xlabel='Item_Weight', ylabel='Item_Visibility'>"
      ]
     },
     "execution_count": 24,
     "metadata": {},
     "output_type": "execute_result"
    },
    {
     "data": {
      "image/png": "[encoded data removed]",
      "text/plain": [
       "<Figure size 432x288 with 1 Axes>"
      ]
     },
     "metadata": {
      "needs_background": "light"
     },
     "output_type": "display_data"
    }
   ],
   "source": [
    "sns.scatterplot(x='Item_Weight',y='Item_Visibility',data=df)\n"
   ]
  },
  {
   "cell_type": "markdown",
   "id": "dd3111a1",
   "metadata": {},
   "source": [
    "As the relationship is non-linear, we can see the scatterplot data is not in linear shape"
   ]
  },
  {
   "cell_type": "markdown",
   "id": "ab544d8f",
   "metadata": {},
   "source": [
    "# Violin plot"
   ]
  },
  {
   "cell_type": "code",
   "execution_count": 25,
   "id": "c4e279ce",
   "metadata": {},
   "outputs": [
    {
     "data": {
      "text/plain": [
       "<AxesSubplot:xlabel='Item_Outlet_Sales'>"
      ]
     },
     "execution_count": 25,
     "metadata": {},
     "output_type": "execute_result"
    },
    {
     "data": {
      "image/png": "[encoded data removed]",
      "text/plain": [
       "<Figure size 432x288 with 1 Axes>"
      ]
     },
     "metadata": {
      "needs_background": "light"
     },
     "output_type": "display_data"
    }
   ],
   "source": [
    "#Checking distribution of data using violinplot\n",
    "sns.violinplot(x='Item_Outlet_Sales',data=df)\n"
   ]
  },
  {
   "cell_type": "code",
   "execution_count": 26,
   "id": "7e778ac6",
   "metadata": {},
   "outputs": [
    {
     "data": {
      "text/plain": [
       "<AxesSubplot:xlabel='Item_MRP'>"
      ]
     },
     "execution_count": 26,
     "metadata": {},
     "output_type": "execute_result"
    },
    {
     "data": {
      "image/png": "[encoded data removed]",
      "text/plain": [
       "<Figure size 432x288 with 1 Axes>"
      ]
     },
     "metadata": {
      "needs_background": "light"
     },
     "output_type": "display_data"
    }
   ],
   "source": [
    "sns.violinplot(x='Item_MRP',data=df)"
   ]
  },
  {
   "cell_type": "markdown",
   "id": "c2904bd3",
   "metadata": {},
   "source": [
    "# Multivariate Analysis"
   ]
  },
  {
   "cell_type": "code",
   "execution_count": 27,
   "id": "5a0d20c6",
   "metadata": {},
   "outputs": [
    {
     "data": {
      "text/html": [
       "<div>\n",
       "<style scoped>\n",
       "    .dataframe tbody tr th:only-of-type {\n",
       "        vertical-align: middle;\n",
       "    }\n",
       "\n",
       "    .dataframe tbody tr th {\n",
       "        vertical-align: top;\n",
       "    }\n",
       "\n",
       "    .dataframe thead th {\n",
       "        text-align: right;\n",
       "    }\n",
       "</style>\n",
       "<table border=\"1\" class=\"dataframe\">\n",
       "  <thead>\n",
       "    <tr style=\"text-align: right;\">\n",
       "      <th></th>\n",
       "      <th>Item_Weight</th>\n",
       "      <th>Item_Visibility</th>\n",
       "      <th>Item_MRP</th>\n",
       "      <th>Outlet_Establishment_Year</th>\n",
       "      <th>Item_Outlet_Sales</th>\n",
       "    </tr>\n",
       "  </thead>\n",
       "  <tbody>\n",
       "    <tr>\n",
       "      <th>count</th>\n",
       "      <td>11765.000000</td>\n",
       "      <td>14204.000000</td>\n",
       "      <td>14204.000000</td>\n",
       "      <td>14204.000000</td>\n",
       "      <td>14204.000000</td>\n",
       "    </tr>\n",
       "    <tr>\n",
       "      <th>mean</th>\n",
       "      <td>12.792854</td>\n",
       "      <td>0.065953</td>\n",
       "      <td>141.004977</td>\n",
       "      <td>1997.830681</td>\n",
       "      <td>1308.865489</td>\n",
       "    </tr>\n",
       "    <tr>\n",
       "      <th>std</th>\n",
       "      <td>4.652502</td>\n",
       "      <td>0.051459</td>\n",
       "      <td>62.086938</td>\n",
       "      <td>8.371664</td>\n",
       "      <td>1699.791423</td>\n",
       "    </tr>\n",
       "    <tr>\n",
       "      <th>min</th>\n",
       "      <td>4.555000</td>\n",
       "      <td>0.000000</td>\n",
       "      <td>31.290000</td>\n",
       "      <td>1985.000000</td>\n",
       "      <td>0.000000</td>\n",
       "    </tr>\n",
       "    <tr>\n",
       "      <th>25%</th>\n",
       "      <td>8.710000</td>\n",
       "      <td>0.027036</td>\n",
       "      <td>94.012000</td>\n",
       "      <td>1987.000000</td>\n",
       "      <td>0.000000</td>\n",
       "    </tr>\n",
       "    <tr>\n",
       "      <th>50%</th>\n",
       "      <td>12.600000</td>\n",
       "      <td>0.054021</td>\n",
       "      <td>142.247000</td>\n",
       "      <td>1999.000000</td>\n",
       "      <td>559.272000</td>\n",
       "    </tr>\n",
       "    <tr>\n",
       "      <th>75%</th>\n",
       "      <td>16.750000</td>\n",
       "      <td>0.094037</td>\n",
       "      <td>185.855600</td>\n",
       "      <td>2004.000000</td>\n",
       "      <td>2163.184200</td>\n",
       "    </tr>\n",
       "    <tr>\n",
       "      <th>max</th>\n",
       "      <td>21.350000</td>\n",
       "      <td>0.328391</td>\n",
       "      <td>266.888400</td>\n",
       "      <td>2009.000000</td>\n",
       "      <td>13086.964800</td>\n",
       "    </tr>\n",
       "  </tbody>\n",
       "</table>\n",
       "</div>"
      ],
      "text/plain": [
       "        Item_Weight  Item_Visibility      Item_MRP  Outlet_Establishment_Year  \\\n",
       "count  11765.000000     14204.000000  14204.000000               14204.000000   \n",
       "mean      12.792854         0.065953    141.004977                1997.830681   \n",
       "std        4.652502         0.051459     62.086938                   8.371664   \n",
       "min        4.555000         0.000000     31.290000                1985.000000   \n",
       "25%        8.710000         0.027036     94.012000                1987.000000   \n",
       "50%       12.600000         0.054021    142.247000                1999.000000   \n",
       "75%       16.750000         0.094037    185.855600                2004.000000   \n",
       "max       21.350000         0.328391    266.888400                2009.000000   \n",
       "\n",
       "       Item_Outlet_Sales  \n",
       "count       14204.000000  \n",
       "mean         1308.865489  \n",
       "std          1699.791423  \n",
       "min             0.000000  \n",
       "25%             0.000000  \n",
       "50%           559.272000  \n",
       "75%          2163.184200  \n",
       "max         13086.964800  "
      ]
     },
     "execution_count": 27,
     "metadata": {},
     "output_type": "execute_result"
    }
   ],
   "source": [
    "df.describe()  #Stastical summery of dataset"
   ]
  },
  {
   "cell_type": "markdown",
   "id": "79103cff",
   "metadata": {},
   "source": [
    "Observations:\n",
    "\n",
    "1.There is not much difference between the mean and median values for all columns, except Item_Outlet_Sales where some of the values are 0\n",
    "\n",
    "2.As there are missing values present in the dataset, the values are being affected and we need to handle it\n",
    "\n",
    "3.There are outliers present , due to which the maximum and minimum values are having a large difference"
   ]
  },
  {
   "cell_type": "code",
   "execution_count": 28,
   "id": "ed9fbb7b",
   "metadata": {},
   "outputs": [
    {
     "data": {
      "text/html": [
       "<div>\n",
       "<style scoped>\n",
       "    .dataframe tbody tr th:only-of-type {\n",
       "        vertical-align: middle;\n",
       "    }\n",
       "\n",
       "    .dataframe tbody tr th {\n",
       "        vertical-align: top;\n",
       "    }\n",
       "\n",
       "    .dataframe thead th {\n",
       "        text-align: right;\n",
       "    }\n",
       "</style>\n",
       "<table border=\"1\" class=\"dataframe\">\n",
       "  <thead>\n",
       "    <tr style=\"text-align: right;\">\n",
       "      <th></th>\n",
       "      <th>Item_Weight</th>\n",
       "      <th>Item_Visibility</th>\n",
       "      <th>Item_MRP</th>\n",
       "      <th>Outlet_Establishment_Year</th>\n",
       "      <th>Item_Outlet_Sales</th>\n",
       "    </tr>\n",
       "  </thead>\n",
       "  <tbody>\n",
       "    <tr>\n",
       "      <th>Item_Weight</th>\n",
       "      <td>1.000000</td>\n",
       "      <td>-0.015901</td>\n",
       "      <td>0.036236</td>\n",
       "      <td>0.000645</td>\n",
       "      <td>0.019447</td>\n",
       "    </tr>\n",
       "    <tr>\n",
       "      <th>Item_Visibility</th>\n",
       "      <td>-0.015901</td>\n",
       "      <td>1.000000</td>\n",
       "      <td>-0.006351</td>\n",
       "      <td>-0.083678</td>\n",
       "      <td>-0.075008</td>\n",
       "    </tr>\n",
       "    <tr>\n",
       "      <th>Item_MRP</th>\n",
       "      <td>0.036236</td>\n",
       "      <td>-0.006351</td>\n",
       "      <td>1.000000</td>\n",
       "      <td>0.000141</td>\n",
       "      <td>0.342781</td>\n",
       "    </tr>\n",
       "    <tr>\n",
       "      <th>Outlet_Establishment_Year</th>\n",
       "      <td>0.000645</td>\n",
       "      <td>-0.083678</td>\n",
       "      <td>0.000141</td>\n",
       "      <td>1.000000</td>\n",
       "      <td>-0.029489</td>\n",
       "    </tr>\n",
       "    <tr>\n",
       "      <th>Item_Outlet_Sales</th>\n",
       "      <td>0.019447</td>\n",
       "      <td>-0.075008</td>\n",
       "      <td>0.342781</td>\n",
       "      <td>-0.029489</td>\n",
       "      <td>1.000000</td>\n",
       "    </tr>\n",
       "  </tbody>\n",
       "</table>\n",
       "</div>"
      ],
      "text/plain": [
       "                           Item_Weight  Item_Visibility  Item_MRP  \\\n",
       "Item_Weight                   1.000000        -0.015901  0.036236   \n",
       "Item_Visibility              -0.015901         1.000000 -0.006351   \n",
       "Item_MRP                      0.036236        -0.006351  1.000000   \n",
       "Outlet_Establishment_Year     0.000645        -0.083678  0.000141   \n",
       "Item_Outlet_Sales             0.019447        -0.075008  0.342781   \n",
       "\n",
       "                           Outlet_Establishment_Year  Item_Outlet_Sales  \n",
       "Item_Weight                                 0.000645           0.019447  \n",
       "Item_Visibility                            -0.083678          -0.075008  \n",
       "Item_MRP                                    0.000141           0.342781  \n",
       "Outlet_Establishment_Year                   1.000000          -0.029489  \n",
       "Item_Outlet_Sales                          -0.029489           1.000000  "
      ]
     },
     "execution_count": 28,
     "metadata": {},
     "output_type": "execute_result"
    }
   ],
   "source": [
    "#Checking the corrolation of the dataset\n",
    "corr=df.corr()\n",
    "corr"
   ]
  },
  {
   "cell_type": "code",
   "execution_count": 33,
   "id": "068c8cd8",
   "metadata": {},
   "outputs": [],
   "source": [
    "#Importing Matplotlib and Seaborn\n",
    "import seaborn as sns\n",
    "import matplotlib.pyplot as plt"
   ]
  },
  {
   "cell_type": "code",
   "execution_count": 34,
   "id": "e8e43c9c",
   "metadata": {},
   "outputs": [
    {
     "data": {
      "image/png": "[encoded data removed]",
      "text/plain": [
       "<Figure size 576x504 with 2 Axes>"
      ]
     },
     "metadata": {
      "needs_background": "light"
     },
     "output_type": "display_data"
    }
   ],
   "source": [
    "#Plotting heatmap to understand the visualization of correlation\n",
    "plt.figure(figsize=(8,7))\n",
    "sns.heatmap(corr,linewidth=0.5,linecolor='black',cmap='Blues',annot=True)\n",
    "plt.show()"
   ]
  },
  {
   "cell_type": "markdown",
   "id": "e5ac0664",
   "metadata": {},
   "source": [
    "Observations:\n",
    "\n",
    "1.All the columns have less correlation between each other\n",
    "\n",
    "2.Highest positive correlation value column is Item_MRP with a value of 34% with target variable, Item_Outlet_Sales\n",
    "\n",
    "3.Due to presence of missing data and outliers, the correlation is getting affected and we need to clear these problems"
   ]
  },
  {
   "cell_type": "markdown",
   "id": "69cf5125",
   "metadata": {},
   "source": [
    "# Determining the years of operation of a store"
   ]
  },
  {
   "cell_type": "markdown",
   "id": "ca0093be",
   "metadata": {},
   "source": [
    "As the datascientists at BigMart had collected the data from the year 2013, we need to check the years of operation of each store till 2013."
   ]
  },
  {
   "cell_type": "code",
   "execution_count": 36,
   "id": "522c425f",
   "metadata": {},
   "outputs": [
    {
     "data": {
      "text/plain": [
       "count    14204.000000\n",
       "mean        15.169319\n",
       "std          8.371664\n",
       "min          4.000000\n",
       "25%          9.000000\n",
       "50%         14.000000\n",
       "75%         26.000000\n",
       "max         28.000000\n",
       "Name: Outlet_Years, dtype: float64"
      ]
     },
     "execution_count": 36,
     "metadata": {},
     "output_type": "execute_result"
    }
   ],
   "source": [
    "df['Outlet_Years'] = 2013 - df['Outlet_Establishment_Year']\n",
    "df['Outlet_Years'].describe().T"
   ]
  },
  {
   "cell_type": "markdown",
   "id": "1c334aba",
   "metadata": {},
   "source": [
    "We can see the operation of outlets ranging from 4 to 28 years, till 2013"
   ]
  },
  {
   "cell_type": "code",
   "execution_count": 37,
   "id": "002b7b1a",
   "metadata": {},
   "outputs": [
    {
     "data": {
      "text/html": [
       "<div>\n",
       "<style scoped>\n",
       "    .dataframe tbody tr th:only-of-type {\n",
       "        vertical-align: middle;\n",
       "    }\n",
       "\n",
       "    .dataframe tbody tr th {\n",
       "        vertical-align: top;\n",
       "    }\n",
       "\n",
       "    .dataframe thead th {\n",
       "        text-align: right;\n",
       "    }\n",
       "</style>\n",
       "<table border=\"1\" class=\"dataframe\">\n",
       "  <thead>\n",
       "    <tr style=\"text-align: right;\">\n",
       "      <th></th>\n",
       "      <th>Item_Identifier</th>\n",
       "      <th>Item_Weight</th>\n",
       "      <th>Item_Fat_Content</th>\n",
       "      <th>Item_Visibility</th>\n",
       "      <th>Item_Type</th>\n",
       "      <th>Item_MRP</th>\n",
       "      <th>Outlet_Identifier</th>\n",
       "      <th>Outlet_Establishment_Year</th>\n",
       "      <th>Outlet_Size</th>\n",
       "      <th>Outlet_Location_Type</th>\n",
       "      <th>Outlet_Type</th>\n",
       "      <th>source</th>\n",
       "      <th>Item_Outlet_Sales</th>\n",
       "      <th>Outlet_Years</th>\n",
       "    </tr>\n",
       "  </thead>\n",
       "  <tbody>\n",
       "    <tr>\n",
       "      <th>0</th>\n",
       "      <td>FDW58</td>\n",
       "      <td>20.750</td>\n",
       "      <td>Low Fat</td>\n",
       "      <td>0.007565</td>\n",
       "      <td>Snack Foods</td>\n",
       "      <td>107.8622</td>\n",
       "      <td>OUT049</td>\n",
       "      <td>1999</td>\n",
       "      <td>Medium</td>\n",
       "      <td>Tier 1</td>\n",
       "      <td>Supermarket Type1</td>\n",
       "      <td>test</td>\n",
       "      <td>0.0</td>\n",
       "      <td>14</td>\n",
       "    </tr>\n",
       "    <tr>\n",
       "      <th>1</th>\n",
       "      <td>FDW14</td>\n",
       "      <td>8.300</td>\n",
       "      <td>reg</td>\n",
       "      <td>0.038428</td>\n",
       "      <td>Dairy</td>\n",
       "      <td>87.3198</td>\n",
       "      <td>OUT017</td>\n",
       "      <td>2007</td>\n",
       "      <td>NaN</td>\n",
       "      <td>Tier 2</td>\n",
       "      <td>Supermarket Type1</td>\n",
       "      <td>test</td>\n",
       "      <td>0.0</td>\n",
       "      <td>6</td>\n",
       "    </tr>\n",
       "    <tr>\n",
       "      <th>2</th>\n",
       "      <td>NCN55</td>\n",
       "      <td>14.600</td>\n",
       "      <td>Low Fat</td>\n",
       "      <td>0.099575</td>\n",
       "      <td>Others</td>\n",
       "      <td>241.7538</td>\n",
       "      <td>OUT010</td>\n",
       "      <td>1998</td>\n",
       "      <td>NaN</td>\n",
       "      <td>Tier 3</td>\n",
       "      <td>Grocery Store</td>\n",
       "      <td>test</td>\n",
       "      <td>0.0</td>\n",
       "      <td>15</td>\n",
       "    </tr>\n",
       "    <tr>\n",
       "      <th>3</th>\n",
       "      <td>FDQ58</td>\n",
       "      <td>7.315</td>\n",
       "      <td>Low Fat</td>\n",
       "      <td>0.015388</td>\n",
       "      <td>Snack Foods</td>\n",
       "      <td>155.0340</td>\n",
       "      <td>OUT017</td>\n",
       "      <td>2007</td>\n",
       "      <td>NaN</td>\n",
       "      <td>Tier 2</td>\n",
       "      <td>Supermarket Type1</td>\n",
       "      <td>test</td>\n",
       "      <td>0.0</td>\n",
       "      <td>6</td>\n",
       "    </tr>\n",
       "    <tr>\n",
       "      <th>4</th>\n",
       "      <td>FDY38</td>\n",
       "      <td>NaN</td>\n",
       "      <td>Regular</td>\n",
       "      <td>0.118599</td>\n",
       "      <td>Dairy</td>\n",
       "      <td>234.2300</td>\n",
       "      <td>OUT027</td>\n",
       "      <td>1985</td>\n",
       "      <td>Medium</td>\n",
       "      <td>Tier 3</td>\n",
       "      <td>Supermarket Type3</td>\n",
       "      <td>test</td>\n",
       "      <td>0.0</td>\n",
       "      <td>28</td>\n",
       "    </tr>\n",
       "  </tbody>\n",
       "</table>\n",
       "</div>"
      ],
      "text/plain": [
       "  Item_Identifier  Item_Weight Item_Fat_Content  Item_Visibility    Item_Type  \\\n",
       "0           FDW58       20.750          Low Fat         0.007565  Snack Foods   \n",
       "1           FDW14        8.300              reg         0.038428        Dairy   \n",
       "2           NCN55       14.600          Low Fat         0.099575       Others   \n",
       "3           FDQ58        7.315          Low Fat         0.015388  Snack Foods   \n",
       "4           FDY38          NaN          Regular         0.118599        Dairy   \n",
       "\n",
       "   Item_MRP Outlet_Identifier  Outlet_Establishment_Year Outlet_Size  \\\n",
       "0  107.8622            OUT049                       1999      Medium   \n",
       "1   87.3198            OUT017                       2007         NaN   \n",
       "2  241.7538            OUT010                       1998         NaN   \n",
       "3  155.0340            OUT017                       2007         NaN   \n",
       "4  234.2300            OUT027                       1985      Medium   \n",
       "\n",
       "  Outlet_Location_Type        Outlet_Type source  Item_Outlet_Sales  \\\n",
       "0               Tier 1  Supermarket Type1   test                0.0   \n",
       "1               Tier 2  Supermarket Type1   test                0.0   \n",
       "2               Tier 3      Grocery Store   test                0.0   \n",
       "3               Tier 2  Supermarket Type1   test                0.0   \n",
       "4               Tier 3  Supermarket Type3   test                0.0   \n",
       "\n",
       "   Outlet_Years  \n",
       "0            14  \n",
       "1             6  \n",
       "2            15  \n",
       "3             6  \n",
       "4            28  "
      ]
     },
     "execution_count": 37,
     "metadata": {},
     "output_type": "execute_result"
    }
   ],
   "source": [
    "df.head()"
   ]
  },
  {
   "cell_type": "markdown",
   "id": "226ee388",
   "metadata": {},
   "source": [
    "# Handling the dataset\n"
   ]
  },
  {
   "cell_type": "code",
   "execution_count": 38,
   "id": "590e99ca",
   "metadata": {},
   "outputs": [
    {
     "data": {
      "text/plain": [
       "Item_Identifier                 0\n",
       "Item_Weight                  2439\n",
       "Item_Fat_Content                0\n",
       "Item_Visibility                 0\n",
       "Item_Type                       0\n",
       "Item_MRP                        0\n",
       "Outlet_Identifier               0\n",
       "Outlet_Establishment_Year       0\n",
       "Outlet_Size                  4016\n",
       "Outlet_Location_Type            0\n",
       "Outlet_Type                     0\n",
       "source                          0\n",
       "Item_Outlet_Sales               0\n",
       "Outlet_Years                    0\n",
       "dtype: int64"
      ]
     },
     "execution_count": 38,
     "metadata": {},
     "output_type": "execute_result"
    }
   ],
   "source": [
    "df.isnull().sum()"
   ]
  },
  {
   "cell_type": "markdown",
   "id": "11873de6",
   "metadata": {},
   "source": [
    "We can replace NaN values by using replace function from numpy and SimpleImputer library"
   ]
  },
  {
   "cell_type": "code",
   "execution_count": 39,
   "id": "6101a07c",
   "metadata": {},
   "outputs": [],
   "source": [
    "#Let's fill the item_weight's missin values with the Mean of Item_weight data\n",
    "df['Item_Weight']=df['Item_Weight'].replace(np.NaN,df['Item_Weight'].mean())\n",
    "\n"
   ]
  },
  {
   "cell_type": "code",
   "execution_count": 40,
   "id": "fb911335",
   "metadata": {},
   "outputs": [
    {
     "data": {
      "text/html": [
       "<div>\n",
       "<style scoped>\n",
       "    .dataframe tbody tr th:only-of-type {\n",
       "        vertical-align: middle;\n",
       "    }\n",
       "\n",
       "    .dataframe tbody tr th {\n",
       "        vertical-align: top;\n",
       "    }\n",
       "\n",
       "    .dataframe thead th {\n",
       "        text-align: right;\n",
       "    }\n",
       "</style>\n",
       "<table border=\"1\" class=\"dataframe\">\n",
       "  <thead>\n",
       "    <tr style=\"text-align: right;\">\n",
       "      <th></th>\n",
       "      <th>Item_Identifier</th>\n",
       "      <th>Item_Weight</th>\n",
       "      <th>Item_Fat_Content</th>\n",
       "      <th>Item_Visibility</th>\n",
       "      <th>Item_Type</th>\n",
       "      <th>Item_MRP</th>\n",
       "      <th>Outlet_Identifier</th>\n",
       "      <th>Outlet_Establishment_Year</th>\n",
       "      <th>Outlet_Size</th>\n",
       "      <th>Outlet_Location_Type</th>\n",
       "      <th>Outlet_Type</th>\n",
       "      <th>source</th>\n",
       "      <th>Item_Outlet_Sales</th>\n",
       "      <th>Outlet_Years</th>\n",
       "    </tr>\n",
       "  </thead>\n",
       "  <tbody>\n",
       "    <tr>\n",
       "      <th>0</th>\n",
       "      <td>FDW58</td>\n",
       "      <td>20.750000</td>\n",
       "      <td>Low Fat</td>\n",
       "      <td>0.007565</td>\n",
       "      <td>Snack Foods</td>\n",
       "      <td>107.8622</td>\n",
       "      <td>OUT049</td>\n",
       "      <td>1999</td>\n",
       "      <td>Medium</td>\n",
       "      <td>Tier 1</td>\n",
       "      <td>Supermarket Type1</td>\n",
       "      <td>test</td>\n",
       "      <td>0.0000</td>\n",
       "      <td>14</td>\n",
       "    </tr>\n",
       "    <tr>\n",
       "      <th>1</th>\n",
       "      <td>FDW14</td>\n",
       "      <td>8.300000</td>\n",
       "      <td>reg</td>\n",
       "      <td>0.038428</td>\n",
       "      <td>Dairy</td>\n",
       "      <td>87.3198</td>\n",
       "      <td>OUT017</td>\n",
       "      <td>2007</td>\n",
       "      <td>Medium</td>\n",
       "      <td>Tier 2</td>\n",
       "      <td>Supermarket Type1</td>\n",
       "      <td>test</td>\n",
       "      <td>0.0000</td>\n",
       "      <td>6</td>\n",
       "    </tr>\n",
       "    <tr>\n",
       "      <th>2</th>\n",
       "      <td>NCN55</td>\n",
       "      <td>14.600000</td>\n",
       "      <td>Low Fat</td>\n",
       "      <td>0.099575</td>\n",
       "      <td>Others</td>\n",
       "      <td>241.7538</td>\n",
       "      <td>OUT010</td>\n",
       "      <td>1998</td>\n",
       "      <td>Medium</td>\n",
       "      <td>Tier 3</td>\n",
       "      <td>Grocery Store</td>\n",
       "      <td>test</td>\n",
       "      <td>0.0000</td>\n",
       "      <td>15</td>\n",
       "    </tr>\n",
       "    <tr>\n",
       "      <th>3</th>\n",
       "      <td>FDQ58</td>\n",
       "      <td>7.315000</td>\n",
       "      <td>Low Fat</td>\n",
       "      <td>0.015388</td>\n",
       "      <td>Snack Foods</td>\n",
       "      <td>155.0340</td>\n",
       "      <td>OUT017</td>\n",
       "      <td>2007</td>\n",
       "      <td>Medium</td>\n",
       "      <td>Tier 2</td>\n",
       "      <td>Supermarket Type1</td>\n",
       "      <td>test</td>\n",
       "      <td>0.0000</td>\n",
       "      <td>6</td>\n",
       "    </tr>\n",
       "    <tr>\n",
       "      <th>4</th>\n",
       "      <td>FDY38</td>\n",
       "      <td>12.792854</td>\n",
       "      <td>Regular</td>\n",
       "      <td>0.118599</td>\n",
       "      <td>Dairy</td>\n",
       "      <td>234.2300</td>\n",
       "      <td>OUT027</td>\n",
       "      <td>1985</td>\n",
       "      <td>Medium</td>\n",
       "      <td>Tier 3</td>\n",
       "      <td>Supermarket Type3</td>\n",
       "      <td>test</td>\n",
       "      <td>0.0000</td>\n",
       "      <td>28</td>\n",
       "    </tr>\n",
       "    <tr>\n",
       "      <th>...</th>\n",
       "      <td>...</td>\n",
       "      <td>...</td>\n",
       "      <td>...</td>\n",
       "      <td>...</td>\n",
       "      <td>...</td>\n",
       "      <td>...</td>\n",
       "      <td>...</td>\n",
       "      <td>...</td>\n",
       "      <td>...</td>\n",
       "      <td>...</td>\n",
       "      <td>...</td>\n",
       "      <td>...</td>\n",
       "      <td>...</td>\n",
       "      <td>...</td>\n",
       "    </tr>\n",
       "    <tr>\n",
       "      <th>14199</th>\n",
       "      <td>FDF22</td>\n",
       "      <td>6.865000</td>\n",
       "      <td>Low Fat</td>\n",
       "      <td>0.056783</td>\n",
       "      <td>Snack Foods</td>\n",
       "      <td>214.5218</td>\n",
       "      <td>OUT013</td>\n",
       "      <td>1987</td>\n",
       "      <td>High</td>\n",
       "      <td>Tier 3</td>\n",
       "      <td>Supermarket Type1</td>\n",
       "      <td>train</td>\n",
       "      <td>2778.3834</td>\n",
       "      <td>26</td>\n",
       "    </tr>\n",
       "    <tr>\n",
       "      <th>14200</th>\n",
       "      <td>FDS36</td>\n",
       "      <td>8.380000</td>\n",
       "      <td>Regular</td>\n",
       "      <td>0.046982</td>\n",
       "      <td>Baking Goods</td>\n",
       "      <td>108.1570</td>\n",
       "      <td>OUT045</td>\n",
       "      <td>2002</td>\n",
       "      <td>Medium</td>\n",
       "      <td>Tier 2</td>\n",
       "      <td>Supermarket Type1</td>\n",
       "      <td>train</td>\n",
       "      <td>549.2850</td>\n",
       "      <td>11</td>\n",
       "    </tr>\n",
       "    <tr>\n",
       "      <th>14201</th>\n",
       "      <td>NCJ29</td>\n",
       "      <td>10.600000</td>\n",
       "      <td>Low Fat</td>\n",
       "      <td>0.035186</td>\n",
       "      <td>Health and Hygiene</td>\n",
       "      <td>85.1224</td>\n",
       "      <td>OUT035</td>\n",
       "      <td>2004</td>\n",
       "      <td>Small</td>\n",
       "      <td>Tier 2</td>\n",
       "      <td>Supermarket Type1</td>\n",
       "      <td>train</td>\n",
       "      <td>1193.1136</td>\n",
       "      <td>9</td>\n",
       "    </tr>\n",
       "    <tr>\n",
       "      <th>14202</th>\n",
       "      <td>FDN46</td>\n",
       "      <td>7.210000</td>\n",
       "      <td>Regular</td>\n",
       "      <td>0.145221</td>\n",
       "      <td>Snack Foods</td>\n",
       "      <td>103.1332</td>\n",
       "      <td>OUT018</td>\n",
       "      <td>2009</td>\n",
       "      <td>Medium</td>\n",
       "      <td>Tier 3</td>\n",
       "      <td>Supermarket Type2</td>\n",
       "      <td>train</td>\n",
       "      <td>1845.5976</td>\n",
       "      <td>4</td>\n",
       "    </tr>\n",
       "    <tr>\n",
       "      <th>14203</th>\n",
       "      <td>DRG01</td>\n",
       "      <td>14.800000</td>\n",
       "      <td>Low Fat</td>\n",
       "      <td>0.044878</td>\n",
       "      <td>Soft Drinks</td>\n",
       "      <td>75.4670</td>\n",
       "      <td>OUT046</td>\n",
       "      <td>1997</td>\n",
       "      <td>Small</td>\n",
       "      <td>Tier 1</td>\n",
       "      <td>Supermarket Type1</td>\n",
       "      <td>train</td>\n",
       "      <td>765.6700</td>\n",
       "      <td>16</td>\n",
       "    </tr>\n",
       "  </tbody>\n",
       "</table>\n",
       "<p>14204 rows × 14 columns</p>\n",
       "</div>"
      ],
      "text/plain": [
       "      Item_Identifier  Item_Weight Item_Fat_Content  Item_Visibility  \\\n",
       "0               FDW58    20.750000          Low Fat         0.007565   \n",
       "1               FDW14     8.300000              reg         0.038428   \n",
       "2               NCN55    14.600000          Low Fat         0.099575   \n",
       "3               FDQ58     7.315000          Low Fat         0.015388   \n",
       "4               FDY38    12.792854          Regular         0.118599   \n",
       "...               ...          ...              ...              ...   \n",
       "14199           FDF22     6.865000          Low Fat         0.056783   \n",
       "14200           FDS36     8.380000          Regular         0.046982   \n",
       "14201           NCJ29    10.600000          Low Fat         0.035186   \n",
       "14202           FDN46     7.210000          Regular         0.145221   \n",
       "14203           DRG01    14.800000          Low Fat         0.044878   \n",
       "\n",
       "                Item_Type  Item_MRP Outlet_Identifier  \\\n",
       "0             Snack Foods  107.8622            OUT049   \n",
       "1                   Dairy   87.3198            OUT017   \n",
       "2                  Others  241.7538            OUT010   \n",
       "3             Snack Foods  155.0340            OUT017   \n",
       "4                   Dairy  234.2300            OUT027   \n",
       "...                   ...       ...               ...   \n",
       "14199         Snack Foods  214.5218            OUT013   \n",
       "14200        Baking Goods  108.1570            OUT045   \n",
       "14201  Health and Hygiene   85.1224            OUT035   \n",
       "14202         Snack Foods  103.1332            OUT018   \n",
       "14203         Soft Drinks   75.4670            OUT046   \n",
       "\n",
       "       Outlet_Establishment_Year Outlet_Size Outlet_Location_Type  \\\n",
       "0                           1999      Medium               Tier 1   \n",
       "1                           2007      Medium               Tier 2   \n",
       "2                           1998      Medium               Tier 3   \n",
       "3                           2007      Medium               Tier 2   \n",
       "4                           1985      Medium               Tier 3   \n",
       "...                          ...         ...                  ...   \n",
       "14199                       1987        High               Tier 3   \n",
       "14200                       2002      Medium               Tier 2   \n",
       "14201                       2004       Small               Tier 2   \n",
       "14202                       2009      Medium               Tier 3   \n",
       "14203                       1997       Small               Tier 1   \n",
       "\n",
       "             Outlet_Type source  Item_Outlet_Sales  Outlet_Years  \n",
       "0      Supermarket Type1   test             0.0000            14  \n",
       "1      Supermarket Type1   test             0.0000             6  \n",
       "2          Grocery Store   test             0.0000            15  \n",
       "3      Supermarket Type1   test             0.0000             6  \n",
       "4      Supermarket Type3   test             0.0000            28  \n",
       "...                  ...    ...                ...           ...  \n",
       "14199  Supermarket Type1  train          2778.3834            26  \n",
       "14200  Supermarket Type1  train           549.2850            11  \n",
       "14201  Supermarket Type1  train          1193.1136             9  \n",
       "14202  Supermarket Type2  train          1845.5976             4  \n",
       "14203  Supermarket Type1  train           765.6700            16  \n",
       "\n",
       "[14204 rows x 14 columns]"
      ]
     },
     "execution_count": 40,
     "metadata": {},
     "output_type": "execute_result"
    }
   ],
   "source": [
    "#let's fill the outlet_size with the most frequent data using SimpleImputer\n",
    "from sklearn.impute import SimpleImputer\n",
    "SI= SimpleImputer(strategy='most_frequent')\n",
    "df['Outlet_Size']=SI.fit_transform(df['Outlet_Size'].values.reshape(-1,1))#reshape is just to neglect any error value\n",
    "df\n",
    "\n"
   ]
  },
  {
   "cell_type": "code",
   "execution_count": 41,
   "id": "e851f778",
   "metadata": {},
   "outputs": [
    {
     "data": {
      "text/plain": [
       "Item_Identifier              0\n",
       "Item_Weight                  0\n",
       "Item_Fat_Content             0\n",
       "Item_Visibility              0\n",
       "Item_Type                    0\n",
       "Item_MRP                     0\n",
       "Outlet_Identifier            0\n",
       "Outlet_Establishment_Year    0\n",
       "Outlet_Size                  0\n",
       "Outlet_Location_Type         0\n",
       "Outlet_Type                  0\n",
       "source                       0\n",
       "Item_Outlet_Sales            0\n",
       "Outlet_Years                 0\n",
       "dtype: int64"
      ]
     },
     "execution_count": 41,
     "metadata": {},
     "output_type": "execute_result"
    }
   ],
   "source": [
    "df.isnull().sum()"
   ]
  },
  {
   "cell_type": "markdown",
   "id": "0d88c12c",
   "metadata": {},
   "source": [
    "There are no missing data after we handled them"
   ]
  },
  {
   "cell_type": "markdown",
   "id": "fbc422e2",
   "metadata": {},
   "source": [
    "# Convrting Categorical Data"
   ]
  },
  {
   "cell_type": "code",
   "execution_count": 43,
   "id": "468f0d9c",
   "metadata": {
    "scrolled": true
   },
   "outputs": [
    {
     "data": {
      "text/plain": [
       "Item_Identifier               object\n",
       "Item_Weight                  float64\n",
       "Item_Fat_Content              object\n",
       "Item_Visibility              float64\n",
       "Item_Type                     object\n",
       "Item_MRP                     float64\n",
       "Outlet_Identifier             object\n",
       "Outlet_Establishment_Year      int64\n",
       "Outlet_Size                   object\n",
       "Outlet_Location_Type          object\n",
       "Outlet_Type                   object\n",
       "source                        object\n",
       "Item_Outlet_Sales            float64\n",
       "Outlet_Years                   int64\n",
       "dtype: object"
      ]
     },
     "execution_count": 43,
     "metadata": {},
     "output_type": "execute_result"
    }
   ],
   "source": [
    "df.dtypes"
   ]
  },
  {
   "cell_type": "markdown",
   "id": "cf08e816",
   "metadata": {},
   "source": [
    "There are 8 columns present in the dataset having categorical data and we need to convert them into numerical data. It can be done by using LabelEncoder"
   ]
  },
  {
   "cell_type": "code",
   "execution_count": 45,
   "id": "c27d43ec",
   "metadata": {},
   "outputs": [],
   "source": [
    "#Importing Label Encoder\n",
    "from sklearn.preprocessing import LabelEncoder\n",
    "le=LabelEncoder()\n",
    "col = ['Item_Identifier','Item_Fat_Content','Item_Type','Outlet_Identifier','Outlet_Size','Outlet_Location_Type','Outlet_Type','source',]\n",
    "for i in col:\n",
    "    df[i]=le.fit_transform(df[i])\n",
    "\n",
    "\n"
   ]
  },
  {
   "cell_type": "code",
   "execution_count": 46,
   "id": "52095932",
   "metadata": {},
   "outputs": [
    {
     "data": {
      "text/html": [
       "<div>\n",
       "<style scoped>\n",
       "    .dataframe tbody tr th:only-of-type {\n",
       "        vertical-align: middle;\n",
       "    }\n",
       "\n",
       "    .dataframe tbody tr th {\n",
       "        vertical-align: top;\n",
       "    }\n",
       "\n",
       "    .dataframe thead th {\n",
       "        text-align: right;\n",
       "    }\n",
       "</style>\n",
       "<table border=\"1\" class=\"dataframe\">\n",
       "  <thead>\n",
       "    <tr style=\"text-align: right;\">\n",
       "      <th></th>\n",
       "      <th>Item_Identifier</th>\n",
       "      <th>Item_Weight</th>\n",
       "      <th>Item_Fat_Content</th>\n",
       "      <th>Item_Visibility</th>\n",
       "      <th>Item_Type</th>\n",
       "      <th>Item_MRP</th>\n",
       "      <th>Outlet_Identifier</th>\n",
       "      <th>Outlet_Establishment_Year</th>\n",
       "      <th>Outlet_Size</th>\n",
       "      <th>Outlet_Location_Type</th>\n",
       "      <th>Outlet_Type</th>\n",
       "      <th>source</th>\n",
       "      <th>Item_Outlet_Sales</th>\n",
       "      <th>Outlet_Years</th>\n",
       "    </tr>\n",
       "  </thead>\n",
       "  <tbody>\n",
       "    <tr>\n",
       "      <th>0</th>\n",
       "      <td>1114</td>\n",
       "      <td>20.750000</td>\n",
       "      <td>1</td>\n",
       "      <td>0.007565</td>\n",
       "      <td>13</td>\n",
       "      <td>107.8622</td>\n",
       "      <td>9</td>\n",
       "      <td>1999</td>\n",
       "      <td>1</td>\n",
       "      <td>0</td>\n",
       "      <td>1</td>\n",
       "      <td>0</td>\n",
       "      <td>0.0</td>\n",
       "      <td>14</td>\n",
       "    </tr>\n",
       "    <tr>\n",
       "      <th>1</th>\n",
       "      <td>1078</td>\n",
       "      <td>8.300000</td>\n",
       "      <td>4</td>\n",
       "      <td>0.038428</td>\n",
       "      <td>4</td>\n",
       "      <td>87.3198</td>\n",
       "      <td>2</td>\n",
       "      <td>2007</td>\n",
       "      <td>1</td>\n",
       "      <td>1</td>\n",
       "      <td>1</td>\n",
       "      <td>0</td>\n",
       "      <td>0.0</td>\n",
       "      <td>6</td>\n",
       "    </tr>\n",
       "    <tr>\n",
       "      <th>2</th>\n",
       "      <td>1420</td>\n",
       "      <td>14.600000</td>\n",
       "      <td>1</td>\n",
       "      <td>0.099575</td>\n",
       "      <td>11</td>\n",
       "      <td>241.7538</td>\n",
       "      <td>0</td>\n",
       "      <td>1998</td>\n",
       "      <td>1</td>\n",
       "      <td>2</td>\n",
       "      <td>0</td>\n",
       "      <td>0</td>\n",
       "      <td>0.0</td>\n",
       "      <td>15</td>\n",
       "    </tr>\n",
       "    <tr>\n",
       "      <th>3</th>\n",
       "      <td>817</td>\n",
       "      <td>7.315000</td>\n",
       "      <td>1</td>\n",
       "      <td>0.015388</td>\n",
       "      <td>13</td>\n",
       "      <td>155.0340</td>\n",
       "      <td>2</td>\n",
       "      <td>2007</td>\n",
       "      <td>1</td>\n",
       "      <td>1</td>\n",
       "      <td>1</td>\n",
       "      <td>0</td>\n",
       "      <td>0.0</td>\n",
       "      <td>6</td>\n",
       "    </tr>\n",
       "    <tr>\n",
       "      <th>4</th>\n",
       "      <td>1197</td>\n",
       "      <td>12.792854</td>\n",
       "      <td>2</td>\n",
       "      <td>0.118599</td>\n",
       "      <td>4</td>\n",
       "      <td>234.2300</td>\n",
       "      <td>5</td>\n",
       "      <td>1985</td>\n",
       "      <td>1</td>\n",
       "      <td>2</td>\n",
       "      <td>3</td>\n",
       "      <td>0</td>\n",
       "      <td>0.0</td>\n",
       "      <td>28</td>\n",
       "    </tr>\n",
       "  </tbody>\n",
       "</table>\n",
       "</div>"
      ],
      "text/plain": [
       "   Item_Identifier  Item_Weight  Item_Fat_Content  Item_Visibility  Item_Type  \\\n",
       "0             1114    20.750000                 1         0.007565         13   \n",
       "1             1078     8.300000                 4         0.038428          4   \n",
       "2             1420    14.600000                 1         0.099575         11   \n",
       "3              817     7.315000                 1         0.015388         13   \n",
       "4             1197    12.792854                 2         0.118599          4   \n",
       "\n",
       "   Item_MRP  Outlet_Identifier  Outlet_Establishment_Year  Outlet_Size  \\\n",
       "0  107.8622                  9                       1999            1   \n",
       "1   87.3198                  2                       2007            1   \n",
       "2  241.7538                  0                       1998            1   \n",
       "3  155.0340                  2                       2007            1   \n",
       "4  234.2300                  5                       1985            1   \n",
       "\n",
       "   Outlet_Location_Type  Outlet_Type  source  Item_Outlet_Sales  Outlet_Years  \n",
       "0                     0            1       0                0.0            14  \n",
       "1                     1            1       0                0.0             6  \n",
       "2                     2            0       0                0.0            15  \n",
       "3                     1            1       0                0.0             6  \n",
       "4                     2            3       0                0.0            28  "
      ]
     },
     "execution_count": 46,
     "metadata": {},
     "output_type": "execute_result"
    }
   ],
   "source": [
    "df.head()   #Checking the dataset after conversion"
   ]
  },
  {
   "cell_type": "code",
   "execution_count": 47,
   "id": "bd86eae1",
   "metadata": {},
   "outputs": [
    {
     "data": {
      "text/plain": [
       "Item_Identifier                int64\n",
       "Item_Weight                  float64\n",
       "Item_Fat_Content               int32\n",
       "Item_Visibility              float64\n",
       "Item_Type                      int32\n",
       "Item_MRP                     float64\n",
       "Outlet_Identifier              int32\n",
       "Outlet_Establishment_Year      int64\n",
       "Outlet_Size                    int32\n",
       "Outlet_Location_Type           int32\n",
       "Outlet_Type                    int32\n",
       "source                         int32\n",
       "Item_Outlet_Sales            float64\n",
       "Outlet_Years                   int64\n",
       "dtype: object"
      ]
     },
     "execution_count": 47,
     "metadata": {},
     "output_type": "execute_result"
    }
   ],
   "source": [
    "df.dtypes"
   ]
  },
  {
   "cell_type": "markdown",
   "id": "93428472",
   "metadata": {},
   "source": [
    "All the columns are in numeric datatypes after conversion and we can proceed further with the analysis"
   ]
  },
  {
   "cell_type": "markdown",
   "id": "700ab88d",
   "metadata": {},
   "source": [
    "# Correlation after conversion"
   ]
  },
  {
   "cell_type": "code",
   "execution_count": 48,
   "id": "25df0356",
   "metadata": {},
   "outputs": [
    {
     "data": {
      "text/html": [
       "<div>\n",
       "<style scoped>\n",
       "    .dataframe tbody tr th:only-of-type {\n",
       "        vertical-align: middle;\n",
       "    }\n",
       "\n",
       "    .dataframe tbody tr th {\n",
       "        vertical-align: top;\n",
       "    }\n",
       "\n",
       "    .dataframe thead th {\n",
       "        text-align: right;\n",
       "    }\n",
       "</style>\n",
       "<table border=\"1\" class=\"dataframe\">\n",
       "  <thead>\n",
       "    <tr style=\"text-align: right;\">\n",
       "      <th></th>\n",
       "      <th>Item_Identifier</th>\n",
       "      <th>Item_Weight</th>\n",
       "      <th>Item_Fat_Content</th>\n",
       "      <th>Item_Visibility</th>\n",
       "      <th>Item_Type</th>\n",
       "      <th>Item_MRP</th>\n",
       "      <th>Outlet_Identifier</th>\n",
       "      <th>Outlet_Establishment_Year</th>\n",
       "      <th>Outlet_Size</th>\n",
       "      <th>Outlet_Location_Type</th>\n",
       "      <th>Outlet_Type</th>\n",
       "      <th>source</th>\n",
       "      <th>Item_Outlet_Sales</th>\n",
       "      <th>Outlet_Years</th>\n",
       "    </tr>\n",
       "  </thead>\n",
       "  <tbody>\n",
       "    <tr>\n",
       "      <th>Item_Identifier</th>\n",
       "      <td>1.000000</td>\n",
       "      <td>0.047101</td>\n",
       "      <td>-0.096220</td>\n",
       "      <td>-0.040775</td>\n",
       "      <td>-0.012048</td>\n",
       "      <td>0.010743</td>\n",
       "      <td>-0.001089</td>\n",
       "      <td>-0.002954</td>\n",
       "      <td>0.002581</td>\n",
       "      <td>-0.002473</td>\n",
       "      <td>-0.004532</td>\n",
       "      <td>-0.001305</td>\n",
       "      <td>0.000906</td>\n",
       "      <td>0.002954</td>\n",
       "    </tr>\n",
       "    <tr>\n",
       "      <th>Item_Weight</th>\n",
       "      <td>0.047101</td>\n",
       "      <td>1.000000</td>\n",
       "      <td>-0.027387</td>\n",
       "      <td>-0.013641</td>\n",
       "      <td>0.028637</td>\n",
       "      <td>0.033002</td>\n",
       "      <td>0.003274</td>\n",
       "      <td>0.000462</td>\n",
       "      <td>0.001580</td>\n",
       "      <td>-0.002104</td>\n",
       "      <td>0.001699</td>\n",
       "      <td>0.015526</td>\n",
       "      <td>0.016425</td>\n",
       "      <td>-0.000462</td>\n",
       "    </tr>\n",
       "    <tr>\n",
       "      <th>Item_Fat_Content</th>\n",
       "      <td>-0.096220</td>\n",
       "      <td>-0.027387</td>\n",
       "      <td>1.000000</td>\n",
       "      <td>0.033864</td>\n",
       "      <td>-0.121140</td>\n",
       "      <td>-0.006195</td>\n",
       "      <td>-0.001733</td>\n",
       "      <td>-0.004135</td>\n",
       "      <td>-0.007084</td>\n",
       "      <td>-0.002518</td>\n",
       "      <td>-0.002380</td>\n",
       "      <td>0.000442</td>\n",
       "      <td>0.006195</td>\n",
       "      <td>0.004135</td>\n",
       "    </tr>\n",
       "    <tr>\n",
       "      <th>Item_Visibility</th>\n",
       "      <td>-0.040775</td>\n",
       "      <td>-0.013641</td>\n",
       "      <td>0.033864</td>\n",
       "      <td>1.000000</td>\n",
       "      <td>-0.035646</td>\n",
       "      <td>-0.006351</td>\n",
       "      <td>-0.106181</td>\n",
       "      <td>-0.083678</td>\n",
       "      <td>0.064836</td>\n",
       "      <td>-0.017362</td>\n",
       "      <td>-0.165726</td>\n",
       "      <td>0.004267</td>\n",
       "      <td>-0.075008</td>\n",
       "      <td>0.083678</td>\n",
       "    </tr>\n",
       "    <tr>\n",
       "      <th>Item_Type</th>\n",
       "      <td>-0.012048</td>\n",
       "      <td>0.028637</td>\n",
       "      <td>-0.121140</td>\n",
       "      <td>-0.035646</td>\n",
       "      <td>1.000000</td>\n",
       "      <td>0.043948</td>\n",
       "      <td>0.001126</td>\n",
       "      <td>0.003061</td>\n",
       "      <td>-0.002608</td>\n",
       "      <td>0.002083</td>\n",
       "      <td>0.004305</td>\n",
       "      <td>-0.000782</td>\n",
       "      <td>0.009769</td>\n",
       "      <td>-0.003061</td>\n",
       "    </tr>\n",
       "    <tr>\n",
       "      <th>Item_MRP</th>\n",
       "      <td>0.010743</td>\n",
       "      <td>0.033002</td>\n",
       "      <td>-0.006195</td>\n",
       "      <td>-0.006351</td>\n",
       "      <td>0.043948</td>\n",
       "      <td>1.000000</td>\n",
       "      <td>-0.000555</td>\n",
       "      <td>0.000141</td>\n",
       "      <td>-0.001018</td>\n",
       "      <td>0.000838</td>\n",
       "      <td>0.000136</td>\n",
       "      <td>-0.000241</td>\n",
       "      <td>0.342781</td>\n",
       "      <td>-0.000141</td>\n",
       "    </tr>\n",
       "    <tr>\n",
       "      <th>Outlet_Identifier</th>\n",
       "      <td>-0.001089</td>\n",
       "      <td>0.003274</td>\n",
       "      <td>-0.001733</td>\n",
       "      <td>-0.106181</td>\n",
       "      <td>0.001126</td>\n",
       "      <td>-0.000555</td>\n",
       "      <td>1.000000</td>\n",
       "      <td>0.079047</td>\n",
       "      <td>0.504580</td>\n",
       "      <td>-0.716151</td>\n",
       "      <td>0.099899</td>\n",
       "      <td>-0.000083</td>\n",
       "      <td>0.097733</td>\n",
       "      <td>-0.079047</td>\n",
       "    </tr>\n",
       "    <tr>\n",
       "      <th>Outlet_Establishment_Year</th>\n",
       "      <td>-0.002954</td>\n",
       "      <td>0.000462</td>\n",
       "      <td>-0.004135</td>\n",
       "      <td>-0.083678</td>\n",
       "      <td>0.003061</td>\n",
       "      <td>0.000141</td>\n",
       "      <td>0.079047</td>\n",
       "      <td>1.000000</td>\n",
       "      <td>0.193392</td>\n",
       "      <td>-0.089328</td>\n",
       "      <td>-0.122519</td>\n",
       "      <td>0.000173</td>\n",
       "      <td>-0.029489</td>\n",
       "      <td>-1.000000</td>\n",
       "    </tr>\n",
       "    <tr>\n",
       "      <th>Outlet_Size</th>\n",
       "      <td>0.002581</td>\n",
       "      <td>0.001580</td>\n",
       "      <td>-0.007084</td>\n",
       "      <td>0.064836</td>\n",
       "      <td>-0.002608</td>\n",
       "      <td>-0.001018</td>\n",
       "      <td>0.504580</td>\n",
       "      <td>0.193392</td>\n",
       "      <td>1.000000</td>\n",
       "      <td>-0.614300</td>\n",
       "      <td>-0.201505</td>\n",
       "      <td>-0.000072</td>\n",
       "      <td>-0.051962</td>\n",
       "      <td>-0.193392</td>\n",
       "    </tr>\n",
       "    <tr>\n",
       "      <th>Outlet_Location_Type</th>\n",
       "      <td>-0.002473</td>\n",
       "      <td>-0.002104</td>\n",
       "      <td>-0.002518</td>\n",
       "      <td>-0.017362</td>\n",
       "      <td>0.002083</td>\n",
       "      <td>0.000838</td>\n",
       "      <td>-0.716151</td>\n",
       "      <td>-0.089328</td>\n",
       "      <td>-0.614300</td>\n",
       "      <td>1.000000</td>\n",
       "      <td>0.467251</td>\n",
       "      <td>0.000023</td>\n",
       "      <td>0.053848</td>\n",
       "      <td>0.089328</td>\n",
       "    </tr>\n",
       "    <tr>\n",
       "      <th>Outlet_Type</th>\n",
       "      <td>-0.004532</td>\n",
       "      <td>0.001699</td>\n",
       "      <td>-0.002380</td>\n",
       "      <td>-0.165726</td>\n",
       "      <td>0.004305</td>\n",
       "      <td>0.000136</td>\n",
       "      <td>0.099899</td>\n",
       "      <td>-0.122519</td>\n",
       "      <td>-0.201505</td>\n",
       "      <td>0.467251</td>\n",
       "      <td>1.000000</td>\n",
       "      <td>-0.000094</td>\n",
       "      <td>0.241785</td>\n",
       "      <td>0.122519</td>\n",
       "    </tr>\n",
       "    <tr>\n",
       "      <th>source</th>\n",
       "      <td>-0.001305</td>\n",
       "      <td>0.015526</td>\n",
       "      <td>0.000442</td>\n",
       "      <td>0.004267</td>\n",
       "      <td>-0.000782</td>\n",
       "      <td>-0.000241</td>\n",
       "      <td>-0.000083</td>\n",
       "      <td>0.000173</td>\n",
       "      <td>-0.000072</td>\n",
       "      <td>0.000023</td>\n",
       "      <td>-0.000094</td>\n",
       "      <td>1.000000</td>\n",
       "      <td>0.628682</td>\n",
       "      <td>-0.000173</td>\n",
       "    </tr>\n",
       "    <tr>\n",
       "      <th>Item_Outlet_Sales</th>\n",
       "      <td>0.000906</td>\n",
       "      <td>0.016425</td>\n",
       "      <td>0.006195</td>\n",
       "      <td>-0.075008</td>\n",
       "      <td>0.009769</td>\n",
       "      <td>0.342781</td>\n",
       "      <td>0.097733</td>\n",
       "      <td>-0.029489</td>\n",
       "      <td>-0.051962</td>\n",
       "      <td>0.053848</td>\n",
       "      <td>0.241785</td>\n",
       "      <td>0.628682</td>\n",
       "      <td>1.000000</td>\n",
       "      <td>0.029489</td>\n",
       "    </tr>\n",
       "    <tr>\n",
       "      <th>Outlet_Years</th>\n",
       "      <td>0.002954</td>\n",
       "      <td>-0.000462</td>\n",
       "      <td>0.004135</td>\n",
       "      <td>0.083678</td>\n",
       "      <td>-0.003061</td>\n",
       "      <td>-0.000141</td>\n",
       "      <td>-0.079047</td>\n",
       "      <td>-1.000000</td>\n",
       "      <td>-0.193392</td>\n",
       "      <td>0.089328</td>\n",
       "      <td>0.122519</td>\n",
       "      <td>-0.000173</td>\n",
       "      <td>0.029489</td>\n",
       "      <td>1.000000</td>\n",
       "    </tr>\n",
       "  </tbody>\n",
       "</table>\n",
       "</div>"
      ],
      "text/plain": [
       "                           Item_Identifier  Item_Weight  Item_Fat_Content  \\\n",
       "Item_Identifier                   1.000000     0.047101         -0.096220   \n",
       "Item_Weight                       0.047101     1.000000         -0.027387   \n",
       "Item_Fat_Content                 -0.096220    -0.027387          1.000000   \n",
       "Item_Visibility                  -0.040775    -0.013641          0.033864   \n",
       "Item_Type                        -0.012048     0.028637         -0.121140   \n",
       "Item_MRP                          0.010743     0.033002         -0.006195   \n",
       "Outlet_Identifier                -0.001089     0.003274         -0.001733   \n",
       "Outlet_Establishment_Year        -0.002954     0.000462         -0.004135   \n",
       "Outlet_Size                       0.002581     0.001580         -0.007084   \n",
       "Outlet_Location_Type             -0.002473    -0.002104         -0.002518   \n",
       "Outlet_Type                      -0.004532     0.001699         -0.002380   \n",
       "source                           -0.001305     0.015526          0.000442   \n",
       "Item_Outlet_Sales                 0.000906     0.016425          0.006195   \n",
       "Outlet_Years                      0.002954    -0.000462          0.004135   \n",
       "\n",
       "                           Item_Visibility  Item_Type  Item_MRP  \\\n",
       "Item_Identifier                  -0.040775  -0.012048  0.010743   \n",
       "Item_Weight                      -0.013641   0.028637  0.033002   \n",
       "Item_Fat_Content                  0.033864  -0.121140 -0.006195   \n",
       "Item_Visibility                   1.000000  -0.035646 -0.006351   \n",
       "Item_Type                        -0.035646   1.000000  0.043948   \n",
       "Item_MRP                         -0.006351   0.043948  1.000000   \n",
       "Outlet_Identifier                -0.106181   0.001126 -0.000555   \n",
       "Outlet_Establishment_Year        -0.083678   0.003061  0.000141   \n",
       "Outlet_Size                       0.064836  -0.002608 -0.001018   \n",
       "Outlet_Location_Type             -0.017362   0.002083  0.000838   \n",
       "Outlet_Type                      -0.165726   0.004305  0.000136   \n",
       "source                            0.004267  -0.000782 -0.000241   \n",
       "Item_Outlet_Sales                -0.075008   0.009769  0.342781   \n",
       "Outlet_Years                      0.083678  -0.003061 -0.000141   \n",
       "\n",
       "                           Outlet_Identifier  Outlet_Establishment_Year  \\\n",
       "Item_Identifier                    -0.001089                  -0.002954   \n",
       "Item_Weight                         0.003274                   0.000462   \n",
       "Item_Fat_Content                   -0.001733                  -0.004135   \n",
       "Item_Visibility                    -0.106181                  -0.083678   \n",
       "Item_Type                           0.001126                   0.003061   \n",
       "Item_MRP                           -0.000555                   0.000141   \n",
       "Outlet_Identifier                   1.000000                   0.079047   \n",
       "Outlet_Establishment_Year           0.079047                   1.000000   \n",
       "Outlet_Size                         0.504580                   0.193392   \n",
       "Outlet_Location_Type               -0.716151                  -0.089328   \n",
       "Outlet_Type                         0.099899                  -0.122519   \n",
       "source                             -0.000083                   0.000173   \n",
       "Item_Outlet_Sales                   0.097733                  -0.029489   \n",
       "Outlet_Years                       -0.079047                  -1.000000   \n",
       "\n",
       "                           Outlet_Size  Outlet_Location_Type  Outlet_Type  \\\n",
       "Item_Identifier               0.002581             -0.002473    -0.004532   \n",
       "Item_Weight                   0.001580             -0.002104     0.001699   \n",
       "Item_Fat_Content             -0.007084             -0.002518    -0.002380   \n",
       "Item_Visibility               0.064836             -0.017362    -0.165726   \n",
       "Item_Type                    -0.002608              0.002083     0.004305   \n",
       "Item_MRP                     -0.001018              0.000838     0.000136   \n",
       "Outlet_Identifier             0.504580             -0.716151     0.099899   \n",
       "Outlet_Establishment_Year     0.193392             -0.089328    -0.122519   \n",
       "Outlet_Size                   1.000000             -0.614300    -0.201505   \n",
       "Outlet_Location_Type         -0.614300              1.000000     0.467251   \n",
       "Outlet_Type                  -0.201505              0.467251     1.000000   \n",
       "source                       -0.000072              0.000023    -0.000094   \n",
       "Item_Outlet_Sales            -0.051962              0.053848     0.241785   \n",
       "Outlet_Years                 -0.193392              0.089328     0.122519   \n",
       "\n",
       "                             source  Item_Outlet_Sales  Outlet_Years  \n",
       "Item_Identifier           -0.001305           0.000906      0.002954  \n",
       "Item_Weight                0.015526           0.016425     -0.000462  \n",
       "Item_Fat_Content           0.000442           0.006195      0.004135  \n",
       "Item_Visibility            0.004267          -0.075008      0.083678  \n",
       "Item_Type                 -0.000782           0.009769     -0.003061  \n",
       "Item_MRP                  -0.000241           0.342781     -0.000141  \n",
       "Outlet_Identifier         -0.000083           0.097733     -0.079047  \n",
       "Outlet_Establishment_Year  0.000173          -0.029489     -1.000000  \n",
       "Outlet_Size               -0.000072          -0.051962     -0.193392  \n",
       "Outlet_Location_Type       0.000023           0.053848      0.089328  \n",
       "Outlet_Type               -0.000094           0.241785      0.122519  \n",
       "source                     1.000000           0.628682     -0.000173  \n",
       "Item_Outlet_Sales          0.628682           1.000000      0.029489  \n",
       "Outlet_Years              -0.000173           0.029489      1.000000  "
      ]
     },
     "execution_count": 48,
     "metadata": {},
     "output_type": "execute_result"
    }
   ],
   "source": [
    "corr =df.corr()\n",
    "corr"
   ]
  },
  {
   "cell_type": "code",
   "execution_count": 50,
   "id": "dce2a065",
   "metadata": {},
   "outputs": [
    {
     "data": {
      "image/png": "[encoded data removed]",
      "text/plain": [
       "<Figure size 1440x720 with 2 Axes>"
      ]
     },
     "metadata": {
      "needs_background": "light"
     },
     "output_type": "display_data"
    }
   ],
   "source": [
    "\n",
    "#Plotting heatmap to understand the visualization of correlation\n",
    "plt.figure(figsize=(20,10))\n",
    "sns.heatmap(corr,linewidth=0.5,linecolor='black',annot=True)\n",
    "plt.show()"
   ]
  },
  {
   "cell_type": "markdown",
   "id": "a4c45df0",
   "metadata": {},
   "source": [
    "Observations:\n",
    "\n",
    "1.There are mostly positive correlations present\n",
    "\n",
    "2.Highest positive correlation is with source column and target variable, with a value of 63%\n",
    "\n",
    "3.Outlet_Years has the highest negative correlation with Outlet_Establishment_Year with a value of -97%\n",
    "\n",
    "4.Positive correlated columns have high impact with target variable, whereas negatively correlated columns have less or zero impact with the target variable."
   ]
  },
  {
   "cell_type": "code",
   "execution_count": 51,
   "id": "889e850e",
   "metadata": {},
   "outputs": [
    {
     "data": {
      "text/plain": [
       "Item_Identifier             -0.004897\n",
       "Item_Weight                  0.111314\n",
       "Item_Fat_Content             0.996640\n",
       "Item_Visibility              1.195175\n",
       "Item_Type                    0.099574\n",
       "Item_MRP                     0.130728\n",
       "Outlet_Identifier           -0.059994\n",
       "Outlet_Establishment_Year   -0.396465\n",
       "Outlet_Size                 -0.087077\n",
       "Outlet_Location_Type        -0.209053\n",
       "Outlet_Type                  0.927344\n",
       "source                      -0.408471\n",
       "Item_Outlet_Sales            1.544684\n",
       "Outlet_Years                 0.396465\n",
       "dtype: float64"
      ]
     },
     "execution_count": 51,
     "metadata": {},
     "output_type": "execute_result"
    }
   ],
   "source": [
    "df.skew()"
   ]
  },
  {
   "cell_type": "code",
   "execution_count": 56,
   "id": "ff791975",
   "metadata": {},
   "outputs": [
    {
     "data": {
      "image/png": "[encoded data removed]",
      "text/plain": [
       "<Figure size 432x288 with 1 Axes>"
      ]
     },
     "metadata": {
      "needs_background": "light"
     },
     "output_type": "display_data"
    },
    {
     "data": {
      "image/png": "[encoded data removed]",
      "text/plain": [
       "<Figure size 432x288 with 1 Axes>"
      ]
     },
     "metadata": {
      "needs_background": "light"
     },
     "output_type": "display_data"
    },
    {
     "data": {
      "image/png": "[encoded data removed]",
      "text/plain": [
       "<Figure size 432x288 with 1 Axes>"
      ]
     },
     "metadata": {
      "needs_background": "light"
     },
     "output_type": "display_data"
    },
    {
     "data": {
      "image/png": "[encoded data removed]",
      "text/plain": [
       "<Figure size 432x288 with 1 Axes>"
      ]
     },
     "metadata": {
      "needs_background": "light"
     },
     "output_type": "display_data"
    }
   ],
   "source": [
    "#Checking normal distribution for the skewness columns\n",
    "skewcol= ['Item_Fat_Content','Item_Visibility','Outlet_Type','Item_Outlet_Sales',] \n",
    "for i in skewcol:\n",
    "    sns.distplot(df[i])\n",
    "    plt.show()\n"
   ]
  },
  {
   "cell_type": "markdown",
   "id": "7de046db",
   "metadata": {},
   "source": [
    "# Checking outliers"
   ]
  },
  {
   "cell_type": "code",
   "execution_count": 54,
   "id": "b90f6076",
   "metadata": {},
   "outputs": [
    {
     "data": {
      "text/plain": [
       "<AxesSubplot:>"
      ]
     },
     "execution_count": 54,
     "metadata": {},
     "output_type": "execute_result"
    },
    {
     "data": {
      "image/png": "[encoded data removed]",
      "text/plain": [
       "<Figure size 432x288 with 1 Axes>"
      ]
     },
     "metadata": {
      "needs_background": "light"
     },
     "output_type": "display_data"
    }
   ],
   "source": [
    "#plotting boxplot for cheking outliers\n",
    "df['Item_Fat_Content'].plot.box()\n",
    "\n"
   ]
  },
  {
   "cell_type": "code",
   "execution_count": 55,
   "id": "17233718",
   "metadata": {},
   "outputs": [
    {
     "data": {
      "text/plain": [
       "<AxesSubplot:>"
      ]
     },
     "execution_count": 55,
     "metadata": {},
     "output_type": "execute_result"
    },
    {
     "data": {
      "image/png": "[encoded data removed]",
      "text/plain": [
       "<Figure size 432x288 with 1 Axes>"
      ]
     },
     "metadata": {
      "needs_background": "light"
     },
     "output_type": "display_data"
    }
   ],
   "source": [
    "df['Item_Visibility'].plot.box()"
   ]
  },
  {
   "cell_type": "code",
   "execution_count": 57,
   "id": "b5b47481",
   "metadata": {},
   "outputs": [
    {
     "data": {
      "text/plain": [
       "<AxesSubplot:>"
      ]
     },
     "execution_count": 57,
     "metadata": {},
     "output_type": "execute_result"
    },
    {
     "data": {
      "image/png": "[encoded data removed]",
      "text/plain": [
       "<Figure size 432x288 with 1 Axes>"
      ]
     },
     "metadata": {
      "needs_background": "light"
     },
     "output_type": "display_data"
    }
   ],
   "source": [
    "df['Outlet_Type'].plot.box()"
   ]
  },
  {
   "cell_type": "code",
   "execution_count": 58,
   "id": "f236c8cd",
   "metadata": {},
   "outputs": [
    {
     "data": {
      "text/plain": [
       "<AxesSubplot:>"
      ]
     },
     "execution_count": 58,
     "metadata": {},
     "output_type": "execute_result"
    },
    {
     "data": {
      "image/png": "[encoded data removed]",
      "text/plain": [
       "<Figure size 432x288 with 1 Axes>"
      ]
     },
     "metadata": {
      "needs_background": "light"
     },
     "output_type": "display_data"
    }
   ],
   "source": [
    "df['Item_Outlet_Sales'].plot.box()"
   ]
  },
  {
   "cell_type": "markdown",
   "id": "b934e288",
   "metadata": {},
   "source": [
    "As there are outliers in the dataset, we can handle them by using z-score"
   ]
  },
  {
   "cell_type": "markdown",
   "id": "ff1fdde4",
   "metadata": {},
   "source": [
    "# Handling outliers using z-score"
   ]
  },
  {
   "cell_type": "code",
   "execution_count": 59,
   "id": "7375becb",
   "metadata": {},
   "outputs": [
    {
     "data": {
      "text/plain": [
       "(array([    1,    46,    76,    78,    89,   103,   138,   242,   333,\n",
       "          369,   385,   474,   499,   543,   595,   637,   739,   783,\n",
       "          797,   815,   858,   871,   985,   996,  1025,  1037,  1046,\n",
       "         1105,  1143,  1191,  1256,  1256,  1270,  1284,  1314,  1321,\n",
       "         1411,  1422,  1437,  1516,  1539,  1616,  1710,  1757,  1780,\n",
       "         1812,  1823,  1853,  1857,  1915,  1919,  1927,  2019,  2070,\n",
       "         2167,  2179,  2230,  2271,  2275,  2365,  2365,  2380,  2393,\n",
       "         2504,  2516,  2561,  2595,  2605,  2609,  2625,  2628,  2677,\n",
       "         2779,  2798,  2836,  2843,  2866,  2915,  2926,  3039,  3077,\n",
       "         3097,  3267,  3294,  3313,  3316,  3357,  3362,  3378,  3461,\n",
       "         3502,  3565,  3622,  3638,  3679,  3744,  3778,  3783,  3950,\n",
       "         3970,  4021,  4052,  4133,  4146,  4147,  4148,  4159,  4208,\n",
       "         4232,  4255,  4328,  4330,  4334,  4340,  4352,  4365,  4421,\n",
       "         4478,  4542,  4575,  4616,  4616,  4689,  4692,  4726,  4801,\n",
       "         4804,  4845,  4846,  4870,  4919,  4921,  4941,  4965,  4970,\n",
       "         4976,  4999,  5121,  5132,  5154,  5157,  5168,  5277,  5290,\n",
       "         5323,  5328,  5429,  5435,  5447,  5469,  5482,  5514,  5542,\n",
       "         5571,  5668,  5671,  5724,  5730,  5762,  5764,  5789,  5811,\n",
       "         5813,  5826,  5832,  5855,  5880,  5884,  5921,  5924,  5956,\n",
       "         5957,  5985,  6014,  6018,  6020,  6054,  6077,  6083,  6105,\n",
       "         6115,  6137,  6153,  6170,  6178,  6183,  6202,  6213,  6296,\n",
       "         6321,  6322,  6342,  6375,  6408,  6434,  6434,  6490,  6519,\n",
       "         6525,  6535,  6572,  6596,  6616,  6672,  6678,  6690,  6691,\n",
       "         6693,  6715,  6724,  6771,  6773,  6794,  6805,  6808,  6814,\n",
       "         6819,  6840,  6864,  6890,  6935,  6953,  6972,  6992,  7005,\n",
       "         7053,  7074,  7114,  7115,  7131,  7177,  7182,  7187,  7193,\n",
       "         7223,  7230,  7241,  7246,  7256,  7257,  7282,  7292,  7296,\n",
       "         7298,  7308,  7325,  7331,  7332,  7339,  7365,  7381,  7386,\n",
       "         7390,  7391,  7404,  7434,  7450,  7486,  7502,  7508,  7516,\n",
       "         7522,  7540,  7560,  7668,  7677,  7679,  7743,  7769,  7790,\n",
       "         7792,  7803,  7824,  7849,  7854,  7897,  7904,  7919,  7932,\n",
       "         7963,  7974,  8005,  8012,  8119,  8120,  8126,  8197,  8209,\n",
       "         8216,  8233,  8250,  8267,  8270,  8280,  8294,  8296,  8341,\n",
       "         8359,  8361,  8368,  8409,  8457,  8484,  8536,  8576,  8586,\n",
       "         8603,  8652,  8654,  8692,  8698,  8714,  8754,  8764,  8768,\n",
       "         8779,  8835,  8887,  8889,  8894,  8906,  8915,  8922,  8923,\n",
       "         8924,  8936,  8967,  9016,  9048,  9080,  9081,  9088,  9139,\n",
       "         9155,  9161,  9169,  9172,  9175,  9178,  9179,  9190,  9221,\n",
       "         9226,  9263,  9265,  9271,  9283,  9348,  9351,  9390,  9401,\n",
       "         9431,  9438,  9448,  9529,  9544,  9550,  9565,  9575,  9584,\n",
       "         9660,  9674,  9687,  9700,  9764,  9775,  9831,  9844,  9900,\n",
       "         9926,  9970,  9971,  9986, 10027, 10030, 10059, 10063, 10074,\n",
       "        10089, 10091, 10096, 10144, 10149, 10211, 10279, 10337, 10355,\n",
       "        10357, 10361, 10362, 10380, 10453, 10470, 10546, 10569, 10572,\n",
       "        10594, 10596, 10622, 10642, 10672, 10712, 10728, 10735, 10746,\n",
       "        10814, 10827, 10831, 10858, 10866, 10883, 10904, 10906, 10968,\n",
       "        10973, 10996, 11032, 11055, 11082, 11094, 11097, 11098, 11144,\n",
       "        11148, 11155, 11175, 11181, 11220, 11231, 11239, 11258, 11292,\n",
       "        11300, 11314, 11413, 11415, 11433, 11456, 11465, 11476, 11480,\n",
       "        11481, 11493, 11518, 11547, 11561, 11572, 11627, 11650, 11658,\n",
       "        11681, 11689, 11693, 11738, 11773, 11813, 11815, 11850, 11857,\n",
       "        11860, 11949, 12015, 12025, 12038, 12051, 12090, 12143, 12149,\n",
       "        12165, 12167, 12217, 12218, 12221, 12222, 12249, 12250, 12257,\n",
       "        12287, 12303, 12355, 12377, 12410, 12446, 12467, 12477, 12484,\n",
       "        12524, 12567, 12584, 12587, 12674, 12682, 12686, 12695, 12697,\n",
       "        12757, 12769, 12788, 12799, 12802, 12827, 12828, 12830, 12845,\n",
       "        12869, 12872, 12881, 12896, 12917, 12931, 12937, 12959, 12983,\n",
       "        12989, 12999, 13024, 13034, 13069, 13177, 13180, 13216, 13220,\n",
       "        13239, 13241, 13243, 13276, 13284, 13290, 13371, 13374, 13384,\n",
       "        13393, 13403, 13418, 13425, 13426, 13432, 13433, 13477, 13497,\n",
       "        13507, 13545, 13547, 13591, 13607, 13611, 13625, 13630, 13637,\n",
       "        13648, 13662, 13685, 13720, 13766, 13794, 13824, 13875, 13882,\n",
       "        13889, 13896, 13914, 13926, 13954, 14010, 14026, 14031, 14068,\n",
       "        14113, 14128, 14191, 14198], dtype=int64),\n",
       " array([ 2,  3,  3,  3,  3,  2,  3,  2,  3,  2,  3,  3,  2,  3,  2,  3,  2,\n",
       "         2,  2,  2,  3,  3,  2,  2,  2,  2,  3,  2,  2,  3,  2,  3,  3,  2,\n",
       "         2,  2,  3,  2,  2,  3,  2,  3,  3,  2,  2,  3,  3,  2,  3,  3,  3,\n",
       "         2,  3,  2,  2,  3,  3,  2,  2,  2,  3,  3,  3,  3,  3,  3,  2,  3,\n",
       "         3,  3,  3,  3,  3,  2,  3,  3,  2,  2,  2,  2,  2,  2,  3,  3,  3,\n",
       "         3,  2,  2,  3,  2,  3,  2,  2,  3,  3,  2,  2,  2,  2,  3,  2,  3,\n",
       "         2,  2,  3,  2,  3,  3,  2,  3,  3,  2,  2,  2,  2,  3,  3,  2,  2,\n",
       "         3,  2,  3,  3,  2,  2,  3,  3,  2,  3,  2,  3,  2,  2,  2,  2,  3,\n",
       "         3,  3,  2,  2,  3,  2,  3,  3,  2,  2,  2,  3,  2,  3,  3,  3,  2,\n",
       "         3,  3,  2, 12,  3,  2,  3,  3, 12, 12, 12,  2,  3,  2, 12, 12, 12,\n",
       "        12, 12, 12, 12, 12,  2, 12,  2, 12, 12,  3, 12, 12,  2, 12,  3,  3,\n",
       "         3,  2, 12, 12, 12, 12,  2,  2, 12, 12,  2, 12,  3,  2, 12, 12, 12,\n",
       "        12, 12,  2, 12,  2, 12,  2, 12, 12,  2, 12,  2, 12,  3,  2,  2, 12,\n",
       "         3,  3,  3,  3,  2, 12,  2,  3, 12,  3,  3, 12,  2,  2,  2,  3, 12,\n",
       "         3,  2, 12, 12,  2,  2, 12,  3, 12,  3, 12,  2, 12, 12, 12, 12,  2,\n",
       "         2,  2,  3, 12,  3, 12,  3, 12, 12, 12, 12, 12,  2,  3, 12,  2,  3,\n",
       "         2,  2,  2, 12,  2, 12,  3, 12, 12,  3,  2,  2,  3,  3, 12, 12, 12,\n",
       "         2,  2,  3, 12, 12,  3, 12,  2,  2, 12, 12,  3, 12, 12,  3,  3,  2,\n",
       "        12,  2,  2,  2,  3, 12, 12, 12, 12, 12, 12,  3, 12, 12,  2, 12,  2,\n",
       "         2,  2, 12, 12,  2,  2,  3, 12, 12,  3,  3,  2,  3,  2, 12,  3, 12,\n",
       "         2,  3,  2,  2, 12, 12,  2, 12, 12, 12, 12,  3, 12,  3, 12, 12, 12,\n",
       "         3, 12, 12, 12,  3,  3,  2,  2, 12, 12,  2,  3,  2, 12,  2, 12, 12,\n",
       "        12, 12,  3,  2,  3, 12,  2,  2, 12,  3, 12,  3,  3, 12,  2, 12, 12,\n",
       "        12,  3,  2, 12, 12, 12, 12,  3, 12, 12,  3,  2,  2, 12,  2,  2,  3,\n",
       "        12, 12,  2, 12, 12,  3, 12, 12, 12,  3,  2, 12, 12,  2, 12,  2, 12,\n",
       "        12, 12,  2, 12, 12,  2,  2, 12,  2,  3,  3, 12, 12,  2,  3, 12, 12,\n",
       "        12,  3, 12,  3,  3,  3, 12, 12, 12,  3,  3, 12, 12,  2, 12, 12,  2,\n",
       "         3,  2, 12,  2,  2,  2, 12,  2,  2, 12,  2,  3, 12,  2, 12, 12, 12,\n",
       "         3, 12,  3,  3, 12,  2, 12,  3, 12,  2,  2, 12,  3, 12, 12,  2,  3,\n",
       "        12, 12, 12,  3,  3, 12,  3,  2,  2, 12, 12, 12, 12,  2,  3, 12,  3,\n",
       "        12,  3, 12,  2,  2, 12,  2,  3,  2,  3,  2, 12,  3, 12, 12, 12,  3,\n",
       "        12, 12,  2,  2,  2,  2, 12,  3,  2,  2, 12, 12, 12, 12, 12,  3,  2,\n",
       "        12, 12,  2,  3, 12, 12, 12,  2, 12,  2, 12,  2,  3, 12, 12,  3,  2,\n",
       "        12,  3, 12,  3, 12,  2,  3, 12, 12,  2], dtype=int64))"
      ]
     },
     "execution_count": 59,
     "metadata": {},
     "output_type": "execute_result"
    }
   ],
   "source": [
    "from scipy.stats import zscore\n",
    "import numpy as np\n",
    "z=np.abs(zscore(df)) #converting all values into absolute values\n",
    "thershold = 3 # setting up a thershould\n",
    "np.where(z>3)\n",
    "\n",
    "\n",
    "\n"
   ]
  },
  {
   "cell_type": "code",
   "execution_count": 60,
   "id": "a99b7bf9",
   "metadata": {},
   "outputs": [
    {
     "data": {
      "text/html": [
       "<div>\n",
       "<style scoped>\n",
       "    .dataframe tbody tr th:only-of-type {\n",
       "        vertical-align: middle;\n",
       "    }\n",
       "\n",
       "    .dataframe tbody tr th {\n",
       "        vertical-align: top;\n",
       "    }\n",
       "\n",
       "    .dataframe thead th {\n",
       "        text-align: right;\n",
       "    }\n",
       "</style>\n",
       "<table border=\"1\" class=\"dataframe\">\n",
       "  <thead>\n",
       "    <tr style=\"text-align: right;\">\n",
       "      <th></th>\n",
       "      <th>Item_Identifier</th>\n",
       "      <th>Item_Weight</th>\n",
       "      <th>Item_Fat_Content</th>\n",
       "      <th>Item_Visibility</th>\n",
       "      <th>Item_Type</th>\n",
       "      <th>Item_MRP</th>\n",
       "      <th>Outlet_Identifier</th>\n",
       "      <th>Outlet_Establishment_Year</th>\n",
       "      <th>Outlet_Size</th>\n",
       "      <th>Outlet_Location_Type</th>\n",
       "      <th>Outlet_Type</th>\n",
       "      <th>source</th>\n",
       "      <th>Item_Outlet_Sales</th>\n",
       "      <th>Outlet_Years</th>\n",
       "    </tr>\n",
       "  </thead>\n",
       "  <tbody>\n",
       "    <tr>\n",
       "      <th>0</th>\n",
       "      <td>1114</td>\n",
       "      <td>20.750000</td>\n",
       "      <td>1</td>\n",
       "      <td>0.007565</td>\n",
       "      <td>13</td>\n",
       "      <td>107.8622</td>\n",
       "      <td>9</td>\n",
       "      <td>1999</td>\n",
       "      <td>1</td>\n",
       "      <td>0</td>\n",
       "      <td>1</td>\n",
       "      <td>0</td>\n",
       "      <td>0.0000</td>\n",
       "      <td>14</td>\n",
       "    </tr>\n",
       "    <tr>\n",
       "      <th>2</th>\n",
       "      <td>1420</td>\n",
       "      <td>14.600000</td>\n",
       "      <td>1</td>\n",
       "      <td>0.099575</td>\n",
       "      <td>11</td>\n",
       "      <td>241.7538</td>\n",
       "      <td>0</td>\n",
       "      <td>1998</td>\n",
       "      <td>1</td>\n",
       "      <td>2</td>\n",
       "      <td>0</td>\n",
       "      <td>0</td>\n",
       "      <td>0.0000</td>\n",
       "      <td>15</td>\n",
       "    </tr>\n",
       "    <tr>\n",
       "      <th>3</th>\n",
       "      <td>817</td>\n",
       "      <td>7.315000</td>\n",
       "      <td>1</td>\n",
       "      <td>0.015388</td>\n",
       "      <td>13</td>\n",
       "      <td>155.0340</td>\n",
       "      <td>2</td>\n",
       "      <td>2007</td>\n",
       "      <td>1</td>\n",
       "      <td>1</td>\n",
       "      <td>1</td>\n",
       "      <td>0</td>\n",
       "      <td>0.0000</td>\n",
       "      <td>6</td>\n",
       "    </tr>\n",
       "    <tr>\n",
       "      <th>4</th>\n",
       "      <td>1197</td>\n",
       "      <td>12.792854</td>\n",
       "      <td>2</td>\n",
       "      <td>0.118599</td>\n",
       "      <td>4</td>\n",
       "      <td>234.2300</td>\n",
       "      <td>5</td>\n",
       "      <td>1985</td>\n",
       "      <td>1</td>\n",
       "      <td>2</td>\n",
       "      <td>3</td>\n",
       "      <td>0</td>\n",
       "      <td>0.0000</td>\n",
       "      <td>28</td>\n",
       "    </tr>\n",
       "    <tr>\n",
       "      <th>5</th>\n",
       "      <td>465</td>\n",
       "      <td>9.800000</td>\n",
       "      <td>2</td>\n",
       "      <td>0.063817</td>\n",
       "      <td>6</td>\n",
       "      <td>117.1492</td>\n",
       "      <td>8</td>\n",
       "      <td>1997</td>\n",
       "      <td>2</td>\n",
       "      <td>0</td>\n",
       "      <td>1</td>\n",
       "      <td>0</td>\n",
       "      <td>0.0000</td>\n",
       "      <td>16</td>\n",
       "    </tr>\n",
       "    <tr>\n",
       "      <th>...</th>\n",
       "      <td>...</td>\n",
       "      <td>...</td>\n",
       "      <td>...</td>\n",
       "      <td>...</td>\n",
       "      <td>...</td>\n",
       "      <td>...</td>\n",
       "      <td>...</td>\n",
       "      <td>...</td>\n",
       "      <td>...</td>\n",
       "      <td>...</td>\n",
       "      <td>...</td>\n",
       "      <td>...</td>\n",
       "      <td>...</td>\n",
       "      <td>...</td>\n",
       "    </tr>\n",
       "    <tr>\n",
       "      <th>14199</th>\n",
       "      <td>370</td>\n",
       "      <td>6.865000</td>\n",
       "      <td>1</td>\n",
       "      <td>0.056783</td>\n",
       "      <td>13</td>\n",
       "      <td>214.5218</td>\n",
       "      <td>1</td>\n",
       "      <td>1987</td>\n",
       "      <td>0</td>\n",
       "      <td>2</td>\n",
       "      <td>1</td>\n",
       "      <td>1</td>\n",
       "      <td>2778.3834</td>\n",
       "      <td>26</td>\n",
       "    </tr>\n",
       "    <tr>\n",
       "      <th>14200</th>\n",
       "      <td>897</td>\n",
       "      <td>8.380000</td>\n",
       "      <td>2</td>\n",
       "      <td>0.046982</td>\n",
       "      <td>0</td>\n",
       "      <td>108.1570</td>\n",
       "      <td>7</td>\n",
       "      <td>2002</td>\n",
       "      <td>1</td>\n",
       "      <td>1</td>\n",
       "      <td>1</td>\n",
       "      <td>1</td>\n",
       "      <td>549.2850</td>\n",
       "      <td>11</td>\n",
       "    </tr>\n",
       "    <tr>\n",
       "      <th>14201</th>\n",
       "      <td>1357</td>\n",
       "      <td>10.600000</td>\n",
       "      <td>1</td>\n",
       "      <td>0.035186</td>\n",
       "      <td>8</td>\n",
       "      <td>85.1224</td>\n",
       "      <td>6</td>\n",
       "      <td>2004</td>\n",
       "      <td>2</td>\n",
       "      <td>1</td>\n",
       "      <td>1</td>\n",
       "      <td>1</td>\n",
       "      <td>1193.1136</td>\n",
       "      <td>9</td>\n",
       "    </tr>\n",
       "    <tr>\n",
       "      <th>14202</th>\n",
       "      <td>681</td>\n",
       "      <td>7.210000</td>\n",
       "      <td>2</td>\n",
       "      <td>0.145221</td>\n",
       "      <td>13</td>\n",
       "      <td>103.1332</td>\n",
       "      <td>3</td>\n",
       "      <td>2009</td>\n",
       "      <td>1</td>\n",
       "      <td>2</td>\n",
       "      <td>2</td>\n",
       "      <td>1</td>\n",
       "      <td>1845.5976</td>\n",
       "      <td>4</td>\n",
       "    </tr>\n",
       "    <tr>\n",
       "      <th>14203</th>\n",
       "      <td>50</td>\n",
       "      <td>14.800000</td>\n",
       "      <td>1</td>\n",
       "      <td>0.044878</td>\n",
       "      <td>14</td>\n",
       "      <td>75.4670</td>\n",
       "      <td>8</td>\n",
       "      <td>1997</td>\n",
       "      <td>2</td>\n",
       "      <td>0</td>\n",
       "      <td>1</td>\n",
       "      <td>1</td>\n",
       "      <td>765.6700</td>\n",
       "      <td>16</td>\n",
       "    </tr>\n",
       "  </tbody>\n",
       "</table>\n",
       "<p>13637 rows × 14 columns</p>\n",
       "</div>"
      ],
      "text/plain": [
       "       Item_Identifier  Item_Weight  Item_Fat_Content  Item_Visibility  \\\n",
       "0                 1114    20.750000                 1         0.007565   \n",
       "2                 1420    14.600000                 1         0.099575   \n",
       "3                  817     7.315000                 1         0.015388   \n",
       "4                 1197    12.792854                 2         0.118599   \n",
       "5                  465     9.800000                 2         0.063817   \n",
       "...                ...          ...               ...              ...   \n",
       "14199              370     6.865000                 1         0.056783   \n",
       "14200              897     8.380000                 2         0.046982   \n",
       "14201             1357    10.600000                 1         0.035186   \n",
       "14202              681     7.210000                 2         0.145221   \n",
       "14203               50    14.800000                 1         0.044878   \n",
       "\n",
       "       Item_Type  Item_MRP  Outlet_Identifier  Outlet_Establishment_Year  \\\n",
       "0             13  107.8622                  9                       1999   \n",
       "2             11  241.7538                  0                       1998   \n",
       "3             13  155.0340                  2                       2007   \n",
       "4              4  234.2300                  5                       1985   \n",
       "5              6  117.1492                  8                       1997   \n",
       "...          ...       ...                ...                        ...   \n",
       "14199         13  214.5218                  1                       1987   \n",
       "14200          0  108.1570                  7                       2002   \n",
       "14201          8   85.1224                  6                       2004   \n",
       "14202         13  103.1332                  3                       2009   \n",
       "14203         14   75.4670                  8                       1997   \n",
       "\n",
       "       Outlet_Size  Outlet_Location_Type  Outlet_Type  source  \\\n",
       "0                1                     0            1       0   \n",
       "2                1                     2            0       0   \n",
       "3                1                     1            1       0   \n",
       "4                1                     2            3       0   \n",
       "5                2                     0            1       0   \n",
       "...            ...                   ...          ...     ...   \n",
       "14199            0                     2            1       1   \n",
       "14200            1                     1            1       1   \n",
       "14201            2                     1            1       1   \n",
       "14202            1                     2            2       1   \n",
       "14203            2                     0            1       1   \n",
       "\n",
       "       Item_Outlet_Sales  Outlet_Years  \n",
       "0                 0.0000            14  \n",
       "2                 0.0000            15  \n",
       "3                 0.0000             6  \n",
       "4                 0.0000            28  \n",
       "5                 0.0000            16  \n",
       "...                  ...           ...  \n",
       "14199          2778.3834            26  \n",
       "14200           549.2850            11  \n",
       "14201          1193.1136             9  \n",
       "14202          1845.5976             4  \n",
       "14203           765.6700            16  \n",
       "\n",
       "[13637 rows x 14 columns]"
      ]
     },
     "execution_count": 60,
     "metadata": {},
     "output_type": "execute_result"
    }
   ],
   "source": [
    "#Removing outliers\n",
    "df_new=df[(z<3).all(axis=1)]\n",
    "df_new\n",
    "\n",
    "\n"
   ]
  },
  {
   "cell_type": "code",
   "execution_count": 62,
   "id": "d093c8ab",
   "metadata": {},
   "outputs": [
    {
     "data": {
      "text/plain": [
       "(14204, 14)"
      ]
     },
     "execution_count": 62,
     "metadata": {},
     "output_type": "execute_result"
    }
   ],
   "source": [
    "#Checking the original shape\n",
    "df.shape"
   ]
  },
  {
   "cell_type": "code",
   "execution_count": 63,
   "id": "0df18e23",
   "metadata": {},
   "outputs": [
    {
     "data": {
      "text/plain": [
       "(13637, 14)"
      ]
     },
     "execution_count": 63,
     "metadata": {},
     "output_type": "execute_result"
    }
   ],
   "source": [
    "#Checking the new dataset shape\n",
    "df_new.shape"
   ]
  },
  {
   "cell_type": "markdown",
   "id": "b2985e51",
   "metadata": {},
   "source": [
    "Nearly 500+ rows had outliers and it has been removed by using z-score method"
   ]
  },
  {
   "cell_type": "markdown",
   "id": "c5c2f8fa",
   "metadata": {},
   "source": [
    "# Percentage loss of data after removing outliers"
   ]
  },
  {
   "cell_type": "code",
   "execution_count": 64,
   "id": "beeeb068",
   "metadata": {},
   "outputs": [
    {
     "name": "stdout",
     "output_type": "stream",
     "text": [
      "3.991833286398198\n"
     ]
    }
   ],
   "source": [
    "percentage_loss=((567)/14204)*100   #567 = 14204-13637\n",
    "print(percentage_loss)"
   ]
  },
  {
   "cell_type": "markdown",
   "id": "e5d2386e",
   "metadata": {},
   "source": [
    "Nearly 4% of the data has been removed which is not a big loss"
   ]
  },
  {
   "cell_type": "markdown",
   "id": "7cdb1f03",
   "metadata": {},
   "source": [
    "# Removing skewness using log transform"
   ]
  },
  {
   "cell_type": "markdown",
   "id": "e4e928b2",
   "metadata": {},
   "source": [
    "# As the target variable also had skewness, we consider the entire dataset and removing the skewness using log transform"
   ]
  },
  {
   "cell_type": "code",
   "execution_count": 65,
   "id": "bf4aa017",
   "metadata": {},
   "outputs": [],
   "source": [
    "for col in df_new.columns:\n",
    "    if df_new.skew().loc[col]>0.55:\n",
    "        df_new[col]=np.log1p(df_new[col])"
   ]
  },
  {
   "cell_type": "code",
   "execution_count": 66,
   "id": "35001c64",
   "metadata": {},
   "outputs": [
    {
     "data": {
      "text/plain": [
       "Item_Identifier             -0.007206\n",
       "Item_Weight                  0.107797\n",
       "Item_Fat_Content             0.284306\n",
       "Item_Visibility              0.710667\n",
       "Item_Type                    0.091851\n",
       "Item_MRP                     0.144519\n",
       "Outlet_Identifier           -0.067703\n",
       "Outlet_Establishment_Year   -0.423675\n",
       "Outlet_Size                 -0.087967\n",
       "Outlet_Location_Type        -0.202324\n",
       "Outlet_Type                 -0.237767\n",
       "source                      -0.385539\n",
       "Item_Outlet_Sales           -0.268402\n",
       "Outlet_Years                 0.423675\n",
       "dtype: float64"
      ]
     },
     "execution_count": 66,
     "metadata": {},
     "output_type": "execute_result"
    }
   ],
   "source": [
    "df_new.skew()"
   ]
  },
  {
   "cell_type": "markdown",
   "id": "3ffd63e4",
   "metadata": {},
   "source": [
    "# Preparing dataset for model training"
   ]
  },
  {
   "cell_type": "markdown",
   "id": "43a30a7b",
   "metadata": {},
   "source": [
    "Splitting x(Independent variables) and y(Target variable/Dependent variables)"
   ]
  },
  {
   "cell_type": "code",
   "execution_count": 67,
   "id": "a9a41456",
   "metadata": {},
   "outputs": [],
   "source": [
    "x=df_new.drop('Item_Outlet_Sales',axis=1)   #independent variable\n",
    "y=df_new['Item_Outlet_Sales']     #dependent variable"
   ]
  },
  {
   "cell_type": "code",
   "execution_count": 71,
   "id": "a6a6c07f",
   "metadata": {},
   "outputs": [
    {
     "data": {
      "text/html": [
       "<div>\n",
       "<style scoped>\n",
       "    .dataframe tbody tr th:only-of-type {\n",
       "        vertical-align: middle;\n",
       "    }\n",
       "\n",
       "    .dataframe tbody tr th {\n",
       "        vertical-align: top;\n",
       "    }\n",
       "\n",
       "    .dataframe thead th {\n",
       "        text-align: right;\n",
       "    }\n",
       "</style>\n",
       "<table border=\"1\" class=\"dataframe\">\n",
       "  <thead>\n",
       "    <tr style=\"text-align: right;\">\n",
       "      <th></th>\n",
       "      <th>Item_Identifier</th>\n",
       "      <th>Item_Weight</th>\n",
       "      <th>Item_Fat_Content</th>\n",
       "      <th>Item_Visibility</th>\n",
       "      <th>Item_Type</th>\n",
       "      <th>Item_MRP</th>\n",
       "      <th>Outlet_Identifier</th>\n",
       "      <th>Outlet_Establishment_Year</th>\n",
       "      <th>Outlet_Size</th>\n",
       "      <th>Outlet_Location_Type</th>\n",
       "      <th>Outlet_Type</th>\n",
       "      <th>source</th>\n",
       "      <th>Outlet_Years</th>\n",
       "    </tr>\n",
       "  </thead>\n",
       "  <tbody>\n",
       "    <tr>\n",
       "      <th>0</th>\n",
       "      <td>1114</td>\n",
       "      <td>20.750000</td>\n",
       "      <td>1</td>\n",
       "      <td>0.007536</td>\n",
       "      <td>13</td>\n",
       "      <td>107.8622</td>\n",
       "      <td>9</td>\n",
       "      <td>1999</td>\n",
       "      <td>1</td>\n",
       "      <td>0</td>\n",
       "      <td>0.693147</td>\n",
       "      <td>0</td>\n",
       "      <td>14</td>\n",
       "    </tr>\n",
       "    <tr>\n",
       "      <th>2</th>\n",
       "      <td>1420</td>\n",
       "      <td>14.600000</td>\n",
       "      <td>1</td>\n",
       "      <td>0.094924</td>\n",
       "      <td>11</td>\n",
       "      <td>241.7538</td>\n",
       "      <td>0</td>\n",
       "      <td>1998</td>\n",
       "      <td>1</td>\n",
       "      <td>2</td>\n",
       "      <td>0.000000</td>\n",
       "      <td>0</td>\n",
       "      <td>15</td>\n",
       "    </tr>\n",
       "    <tr>\n",
       "      <th>3</th>\n",
       "      <td>817</td>\n",
       "      <td>7.315000</td>\n",
       "      <td>1</td>\n",
       "      <td>0.015271</td>\n",
       "      <td>13</td>\n",
       "      <td>155.0340</td>\n",
       "      <td>2</td>\n",
       "      <td>2007</td>\n",
       "      <td>1</td>\n",
       "      <td>1</td>\n",
       "      <td>0.693147</td>\n",
       "      <td>0</td>\n",
       "      <td>6</td>\n",
       "    </tr>\n",
       "    <tr>\n",
       "      <th>4</th>\n",
       "      <td>1197</td>\n",
       "      <td>12.792854</td>\n",
       "      <td>2</td>\n",
       "      <td>0.112077</td>\n",
       "      <td>4</td>\n",
       "      <td>234.2300</td>\n",
       "      <td>5</td>\n",
       "      <td>1985</td>\n",
       "      <td>1</td>\n",
       "      <td>2</td>\n",
       "      <td>1.386294</td>\n",
       "      <td>0</td>\n",
       "      <td>28</td>\n",
       "    </tr>\n",
       "    <tr>\n",
       "      <th>5</th>\n",
       "      <td>465</td>\n",
       "      <td>9.800000</td>\n",
       "      <td>2</td>\n",
       "      <td>0.061864</td>\n",
       "      <td>6</td>\n",
       "      <td>117.1492</td>\n",
       "      <td>8</td>\n",
       "      <td>1997</td>\n",
       "      <td>2</td>\n",
       "      <td>0</td>\n",
       "      <td>0.693147</td>\n",
       "      <td>0</td>\n",
       "      <td>16</td>\n",
       "    </tr>\n",
       "    <tr>\n",
       "      <th>...</th>\n",
       "      <td>...</td>\n",
       "      <td>...</td>\n",
       "      <td>...</td>\n",
       "      <td>...</td>\n",
       "      <td>...</td>\n",
       "      <td>...</td>\n",
       "      <td>...</td>\n",
       "      <td>...</td>\n",
       "      <td>...</td>\n",
       "      <td>...</td>\n",
       "      <td>...</td>\n",
       "      <td>...</td>\n",
       "      <td>...</td>\n",
       "    </tr>\n",
       "    <tr>\n",
       "      <th>14199</th>\n",
       "      <td>370</td>\n",
       "      <td>6.865000</td>\n",
       "      <td>1</td>\n",
       "      <td>0.055230</td>\n",
       "      <td>13</td>\n",
       "      <td>214.5218</td>\n",
       "      <td>1</td>\n",
       "      <td>1987</td>\n",
       "      <td>0</td>\n",
       "      <td>2</td>\n",
       "      <td>0.693147</td>\n",
       "      <td>1</td>\n",
       "      <td>26</td>\n",
       "    </tr>\n",
       "    <tr>\n",
       "      <th>14200</th>\n",
       "      <td>897</td>\n",
       "      <td>8.380000</td>\n",
       "      <td>2</td>\n",
       "      <td>0.045912</td>\n",
       "      <td>0</td>\n",
       "      <td>108.1570</td>\n",
       "      <td>7</td>\n",
       "      <td>2002</td>\n",
       "      <td>1</td>\n",
       "      <td>1</td>\n",
       "      <td>0.693147</td>\n",
       "      <td>1</td>\n",
       "      <td>11</td>\n",
       "    </tr>\n",
       "    <tr>\n",
       "      <th>14201</th>\n",
       "      <td>1357</td>\n",
       "      <td>10.600000</td>\n",
       "      <td>1</td>\n",
       "      <td>0.034581</td>\n",
       "      <td>8</td>\n",
       "      <td>85.1224</td>\n",
       "      <td>6</td>\n",
       "      <td>2004</td>\n",
       "      <td>2</td>\n",
       "      <td>1</td>\n",
       "      <td>0.693147</td>\n",
       "      <td>1</td>\n",
       "      <td>9</td>\n",
       "    </tr>\n",
       "    <tr>\n",
       "      <th>14202</th>\n",
       "      <td>681</td>\n",
       "      <td>7.210000</td>\n",
       "      <td>2</td>\n",
       "      <td>0.135597</td>\n",
       "      <td>13</td>\n",
       "      <td>103.1332</td>\n",
       "      <td>3</td>\n",
       "      <td>2009</td>\n",
       "      <td>1</td>\n",
       "      <td>2</td>\n",
       "      <td>1.098612</td>\n",
       "      <td>1</td>\n",
       "      <td>4</td>\n",
       "    </tr>\n",
       "    <tr>\n",
       "      <th>14203</th>\n",
       "      <td>50</td>\n",
       "      <td>14.800000</td>\n",
       "      <td>1</td>\n",
       "      <td>0.043900</td>\n",
       "      <td>14</td>\n",
       "      <td>75.4670</td>\n",
       "      <td>8</td>\n",
       "      <td>1997</td>\n",
       "      <td>2</td>\n",
       "      <td>0</td>\n",
       "      <td>0.693147</td>\n",
       "      <td>1</td>\n",
       "      <td>16</td>\n",
       "    </tr>\n",
       "  </tbody>\n",
       "</table>\n",
       "<p>13637 rows × 13 columns</p>\n",
       "</div>"
      ],
      "text/plain": [
       "       Item_Identifier  Item_Weight  Item_Fat_Content  Item_Visibility  \\\n",
       "0                 1114    20.750000                 1         0.007536   \n",
       "2                 1420    14.600000                 1         0.094924   \n",
       "3                  817     7.315000                 1         0.015271   \n",
       "4                 1197    12.792854                 2         0.112077   \n",
       "5                  465     9.800000                 2         0.061864   \n",
       "...                ...          ...               ...              ...   \n",
       "14199              370     6.865000                 1         0.055230   \n",
       "14200              897     8.380000                 2         0.045912   \n",
       "14201             1357    10.600000                 1         0.034581   \n",
       "14202              681     7.210000                 2         0.135597   \n",
       "14203               50    14.800000                 1         0.043900   \n",
       "\n",
       "       Item_Type  Item_MRP  Outlet_Identifier  Outlet_Establishment_Year  \\\n",
       "0             13  107.8622                  9                       1999   \n",
       "2             11  241.7538                  0                       1998   \n",
       "3             13  155.0340                  2                       2007   \n",
       "4              4  234.2300                  5                       1985   \n",
       "5              6  117.1492                  8                       1997   \n",
       "...          ...       ...                ...                        ...   \n",
       "14199         13  214.5218                  1                       1987   \n",
       "14200          0  108.1570                  7                       2002   \n",
       "14201          8   85.1224                  6                       2004   \n",
       "14202         13  103.1332                  3                       2009   \n",
       "14203         14   75.4670                  8                       1997   \n",
       "\n",
       "       Outlet_Size  Outlet_Location_Type  Outlet_Type  source  Outlet_Years  \n",
       "0                1                     0     0.693147       0            14  \n",
       "2                1                     2     0.000000       0            15  \n",
       "3                1                     1     0.693147       0             6  \n",
       "4                1                     2     1.386294       0            28  \n",
       "5                2                     0     0.693147       0            16  \n",
       "...            ...                   ...          ...     ...           ...  \n",
       "14199            0                     2     0.693147       1            26  \n",
       "14200            1                     1     0.693147       1            11  \n",
       "14201            2                     1     0.693147       1             9  \n",
       "14202            1                     2     1.098612       1             4  \n",
       "14203            2                     0     0.693147       1            16  \n",
       "\n",
       "[13637 rows x 13 columns]"
      ]
     },
     "execution_count": 71,
     "metadata": {},
     "output_type": "execute_result"
    }
   ],
   "source": [
    "#checking x data\n",
    "x"
   ]
  },
  {
   "cell_type": "code",
   "execution_count": 70,
   "id": "8b903c19",
   "metadata": {},
   "outputs": [
    {
     "data": {
      "text/plain": [
       "0        0.000000\n",
       "2        0.000000\n",
       "3        0.000000\n",
       "4        0.000000\n",
       "5        0.000000\n",
       "           ...   \n",
       "14199    7.929984\n",
       "14200    6.310436\n",
       "14201    7.085159\n",
       "14202    7.521100\n",
       "14203    6.642056\n",
       "Name: Item_Outlet_Sales, Length: 13637, dtype: float64"
      ]
     },
     "execution_count": 70,
     "metadata": {},
     "output_type": "execute_result"
    }
   ],
   "source": [
    "#checking y data\n",
    "y"
   ]
  },
  {
   "cell_type": "markdown",
   "id": "2eaa1166",
   "metadata": {},
   "source": [
    "# Scaling the model"
   ]
  },
  {
   "cell_type": "code",
   "execution_count": 72,
   "id": "316231c5",
   "metadata": {},
   "outputs": [
    {
     "data": {
      "text/plain": [
       "array([[ 7.36059157e-01,  1.86539187e+00, -5.84964117e-01, ...,\n",
       "        -1.02612632e-01, -1.21115474e+00, -1.20579793e-01],\n",
       "       [ 1.41360894e+00,  4.22698286e-01, -5.84964117e-01, ...,\n",
       "        -2.06803592e+00, -1.21115474e+00, -3.61439649e-04],\n",
       "       [ 7.84373110e-02, -1.28624851e+00, -5.84964117e-01, ...,\n",
       "        -1.02612632e-01, -1.21115474e+00, -1.08232662e+00],\n",
       "       ...,\n",
       "       [ 1.27411340e+00, -5.15639007e-01, -5.84964117e-01, ...,\n",
       "        -1.02612632e-01,  8.25658330e-01, -7.21671560e-01],\n",
       "       [-2.22695925e-01, -1.31087986e+00,  1.17950296e+00, ...,\n",
       "         1.04708629e+00,  8.25658330e-01, -1.32276333e+00],\n",
       "       [-1.61986557e+00,  4.69615150e-01, -5.84964117e-01, ...,\n",
       "        -1.02612632e-01,  8.25658330e-01,  1.19856914e-01]])"
      ]
     },
     "execution_count": 72,
     "metadata": {},
     "output_type": "execute_result"
    }
   ],
   "source": [
    "from sklearn.preprocessing import StandardScaler\n",
    "sc=StandardScaler()\n",
    "x=sc.fit_transform(x)\n",
    "x"
   ]
  },
  {
   "cell_type": "markdown",
   "id": "5fdc421d",
   "metadata": {},
   "source": [
    "# Building the model"
   ]
  },
  {
   "cell_type": "code",
   "execution_count": 73,
   "id": "5b4d8e5d",
   "metadata": {},
   "outputs": [],
   "source": [
    "#Importing required metrices and model for the dataset\n",
    "from sklearn.model_selection import train_test_split\n",
    "from sklearn.linear_model import LinearRegression\n",
    "from sklearn.model_selection import cross_val_score\n",
    "from sklearn.metrics import r2_score\n",
    "\n",
    "\n"
   ]
  },
  {
   "cell_type": "code",
   "execution_count": 77,
   "id": "73651f01",
   "metadata": {},
   "outputs": [
    {
     "name": "stdout",
     "output_type": "stream",
     "text": [
      "At random state 279 The model performs well\n",
      "Trining r2_score is: 97.2848464278399\n",
      "Testing r2_score is: 97.28343758357228\n",
      "At random state 286 The model performs well\n",
      "Trining r2_score is: 97.28816120796303\n",
      "Testing r2_score is: 97.28577381102711\n",
      "At random state 412 The model performs well\n",
      "Trining r2_score is: 97.28482332786031\n",
      "Testing r2_score is: 97.2799525608794\n",
      "At random state 441 The model performs well\n",
      "Trining r2_score is: 97.28517216684808\n",
      "Testing r2_score is: 97.28823373395858\n",
      "At random state 483 The model performs well\n",
      "Trining r2_score is: 97.28511736250508\n",
      "Testing r2_score is: 97.28695459148658\n",
      "At random state 506 The model performs well\n",
      "Trining r2_score is: 97.28620072459913\n",
      "Testing r2_score is: 97.28568310490111\n",
      "At random state 588 The model performs well\n",
      "Trining r2_score is: 97.2869470724804\n",
      "Testing r2_score is: 97.28877536881244\n",
      "At random state 704 The model performs well\n",
      "Trining r2_score is: 97.28601107554621\n",
      "Testing r2_score is: 97.28699859193318\n",
      "At random state 754 The model performs well\n",
      "Trining r2_score is: 97.2852312190865\n",
      "Testing r2_score is: 97.2867907087801\n",
      "At random state 806 The model performs well\n",
      "Trining r2_score is: 97.2854878436853\n",
      "Testing r2_score is: 97.28768817853324\n",
      "At random state 843 The model performs well\n",
      "Trining r2_score is: 97.2857140549426\n",
      "Testing r2_score is: 97.28659460194923\n",
      "At random state 870 The model performs well\n",
      "Trining r2_score is: 97.28545090554984\n",
      "Testing r2_score is: 97.28682397828217\n",
      "At random state 903 The model performs well\n",
      "Trining r2_score is: 97.28505598464704\n",
      "Testing r2_score is: 97.28835055113504\n",
      "At random state 911 The model performs well\n",
      "Trining r2_score is: 97.28519598780538\n",
      "Testing r2_score is: 97.28642473515066\n",
      "At random state 995 The model performs well\n",
      "Trining r2_score is: 97.28422191743236\n",
      "Testing r2_score is: 97.2840806905513\n"
     ]
    }
   ],
   "source": [
    "#Finding the best random state and accuracy\n",
    "best_rstate= 0\n",
    "accuracy =0\n",
    "for i in range(0,1000):\n",
    "    x_train,x_test,y_train,y_test=train_test_split(x,y,test_size=.20,random_state=i)\n",
    "    lr=LinearRegression()\n",
    "    lr.fit(x_train,y_train)\n",
    "    pred_train=lr.predict(x_train)\n",
    "    pred_test=lr.predict(x_test)\n",
    "    if round(r2_score(y_train,pred_train)*100,2)==round(r2_score(y_test,pred_test)*100,2):\n",
    "        print(\"At random state\",i,'The model performs well')\n",
    "        print('Trining r2_score is:', r2_score(y_train,pred_train)*100)\n",
    "        print('Testing r2_score is:',r2_score(y_test,pred_test)*100)\n",
    "\n",
    "\n"
   ]
  },
  {
   "cell_type": "markdown",
   "id": "d68d015b",
   "metadata": {},
   "source": [
    "We can see that, at random state=441 it is giving the best training and testing r2_scores so that we can create our train_test_split with this random state"
   ]
  },
  {
   "cell_type": "code",
   "execution_count": 78,
   "id": "fdd66a83",
   "metadata": {},
   "outputs": [],
   "source": [
    "#Creating train_test_split using best random_state\n",
    "x_train,x_test,y_train,y_test=train_test_split(x,y,random_state=441,test_size=.20)"
   ]
  },
  {
   "cell_type": "markdown",
   "id": "9e27b170",
   "metadata": {},
   "source": [
    "# Finding the best model "
   ]
  },
  {
   "cell_type": "code",
   "execution_count": 84,
   "id": "8a98656a",
   "metadata": {},
   "outputs": [],
   "source": [
    "#importing the models we are going to use\n",
    "from sklearn.linear_model import LinearRegression\n",
    "from sklearn.ensemble import RandomForestRegressor\n",
    "from sklearn.svm import SVR\n",
    "from sklearn.tree import DecisionTreeRegressor\n",
    "\n",
    "\n"
   ]
  },
  {
   "cell_type": "code",
   "execution_count": 85,
   "id": "ce588877",
   "metadata": {},
   "outputs": [],
   "source": [
    "LR=LinearRegression()\n",
    "rfr=RandomForestRegressor()\n",
    "svr=SVR()\n",
    "dtr=DecisionTreeRegressor()"
   ]
  },
  {
   "cell_type": "code",
   "execution_count": 86,
   "id": "332e07e6",
   "metadata": {},
   "outputs": [],
   "source": [
    "models= []\n",
    "models.append(('Linear Regression',LR))\n",
    "models.append(('Random Forest Regressor',rfr))\n",
    "models.append(('Support Vector Regressor',svr))\n",
    "models.append(('Decision Tree Regressor',dtr))"
   ]
  },
  {
   "cell_type": "code",
   "execution_count": 87,
   "id": "e2518b02",
   "metadata": {},
   "outputs": [],
   "source": [
    "#Importing required metrics\n",
    "from sklearn.metrics import mean_squared_error,r2_score\n",
    "from sklearn.model_selection import cross_val_score\n",
    "import numpy as np"
   ]
  },
  {
   "cell_type": "code",
   "execution_count": 88,
   "id": "07e924f9",
   "metadata": {},
   "outputs": [
    {
     "name": "stdout",
     "output_type": "stream",
     "text": [
      "****************************** Linear Regression ***************************\n",
      "\n",
      "\n",
      "LinearRegression()\n",
      "\n",
      "\n",
      "accuracy_score:  0.9728823373395857\n",
      "\n",
      "\n",
      "cross_val_score:  0.3392850942537895\n",
      "\n",
      "\n",
      "Mean Squared Error:  0.3653850864618713\n",
      "\n",
      "\n",
      "Root Mean Squared Error:  0.6044709144879274\n",
      "\n",
      "\n",
      "\n",
      "****************************** Random Forest Regressor ***************************\n",
      "\n",
      "\n",
      "RandomForestRegressor()\n",
      "\n",
      "\n",
      "accuracy_score:  0.9862190038569041\n",
      "\n",
      "\n",
      "cross_val_score:  0.851734059110757\n",
      "\n",
      "\n",
      "Mean Squared Error:  0.18568600584542005\n",
      "\n",
      "\n",
      "Root Mean Squared Error:  0.43091299103812136\n",
      "\n",
      "\n",
      "\n",
      "****************************** Support Vector Regressor ***************************\n",
      "\n",
      "\n",
      "SVR()\n",
      "\n",
      "\n",
      "accuracy_score:  0.9867884760807615\n",
      "\n",
      "\n",
      "cross_val_score:  0.451031587753286\n",
      "\n",
      "\n",
      "Mean Squared Error:  0.1780129014057994\n",
      "\n",
      "\n",
      "Root Mean Squared Error:  0.4219157515497607\n",
      "\n",
      "\n",
      "\n",
      "****************************** Decision Tree Regressor ***************************\n",
      "\n",
      "\n",
      "DecisionTreeRegressor()\n",
      "\n",
      "\n",
      "accuracy_score:  0.9744105797537282\n",
      "\n",
      "\n",
      "cross_val_score:  0.7242789720324518\n",
      "\n",
      "\n",
      "Mean Squared Error:  0.3447934523812066\n",
      "\n",
      "\n",
      "Root Mean Squared Error:  0.5871911548901317\n",
      "\n",
      "\n",
      "\n"
     ]
    }
   ],
   "source": [
    "#Finding the required metrices for all models together using a for loop\n",
    "Model=[]\n",
    "score=[]\n",
    "cvs=[]\n",
    "mse=[]\n",
    "rmse=[]\n",
    "for name,model in models:\n",
    "    print('******************************',name,'***************************')\n",
    "    print('\\n')\n",
    "    Model.append(name)\n",
    "    model.fit(x_train,y_train)\n",
    "    print(model)\n",
    "    pre=model.predict(x_test)\n",
    "    print('\\n')\n",
    "    AS=r2_score(y_test,pre)\n",
    "    print('accuracy_score: ',AS)\n",
    "    score.append(AS*100)\n",
    "    print('\\n')\n",
    "    sc=cross_val_score(model,x,y,cv=5,scoring='r2').mean()\n",
    "    print('cross_val_score: ',sc)\n",
    "    cvs.append(sc*100)\n",
    "    print('\\n')\n",
    "    MSE=mean_squared_error(y_test,pre)\n",
    "    print('Mean Squared Error: ',MSE)\n",
    "    mse.append(MSE)\n",
    "    print('\\n')\n",
    "    RMSE=np.sqrt(mean_squared_error(y_test,pre))\n",
    "    print('Root Mean Squared Error: ',RMSE)\n",
    "    rmse.append(RMSE)\n",
    "    print('\\n\\n')"
   ]
  },
  {
   "cell_type": "code",
   "execution_count": 89,
   "id": "953052d3",
   "metadata": {},
   "outputs": [
    {
     "data": {
      "text/html": [
       "<div>\n",
       "<style scoped>\n",
       "    .dataframe tbody tr th:only-of-type {\n",
       "        vertical-align: middle;\n",
       "    }\n",
       "\n",
       "    .dataframe tbody tr th {\n",
       "        vertical-align: top;\n",
       "    }\n",
       "\n",
       "    .dataframe thead th {\n",
       "        text-align: right;\n",
       "    }\n",
       "</style>\n",
       "<table border=\"1\" class=\"dataframe\">\n",
       "  <thead>\n",
       "    <tr style=\"text-align: right;\">\n",
       "      <th></th>\n",
       "      <th>Model</th>\n",
       "      <th>Accuracy_score</th>\n",
       "      <th>Cross_val_score</th>\n",
       "      <th>Mean_squared_error</th>\n",
       "      <th>Root_Mean_Squared_error</th>\n",
       "    </tr>\n",
       "  </thead>\n",
       "  <tbody>\n",
       "    <tr>\n",
       "      <th>0</th>\n",
       "      <td>Linear Regression</td>\n",
       "      <td>97.288234</td>\n",
       "      <td>33.928509</td>\n",
       "      <td>0.365385</td>\n",
       "      <td>0.604471</td>\n",
       "    </tr>\n",
       "    <tr>\n",
       "      <th>1</th>\n",
       "      <td>Random Forest Regressor</td>\n",
       "      <td>98.621900</td>\n",
       "      <td>85.173406</td>\n",
       "      <td>0.185686</td>\n",
       "      <td>0.430913</td>\n",
       "    </tr>\n",
       "    <tr>\n",
       "      <th>2</th>\n",
       "      <td>Support Vector Regressor</td>\n",
       "      <td>98.678848</td>\n",
       "      <td>45.103159</td>\n",
       "      <td>0.178013</td>\n",
       "      <td>0.421916</td>\n",
       "    </tr>\n",
       "    <tr>\n",
       "      <th>3</th>\n",
       "      <td>Decision Tree Regressor</td>\n",
       "      <td>97.441058</td>\n",
       "      <td>72.427897</td>\n",
       "      <td>0.344793</td>\n",
       "      <td>0.587191</td>\n",
       "    </tr>\n",
       "  </tbody>\n",
       "</table>\n",
       "</div>"
      ],
      "text/plain": [
       "                      Model  Accuracy_score  Cross_val_score  \\\n",
       "0         Linear Regression       97.288234        33.928509   \n",
       "1   Random Forest Regressor       98.621900        85.173406   \n",
       "2  Support Vector Regressor       98.678848        45.103159   \n",
       "3   Decision Tree Regressor       97.441058        72.427897   \n",
       "\n",
       "   Mean_squared_error  Root_Mean_Squared_error  \n",
       "0            0.365385                 0.604471  \n",
       "1            0.185686                 0.430913  \n",
       "2            0.178013                 0.421916  \n",
       "3            0.344793                 0.587191  "
      ]
     },
     "execution_count": 89,
     "metadata": {},
     "output_type": "execute_result"
    }
   ],
   "source": [
    "#Finalizing the result\n",
    "result=pd.DataFrame({'Model':Model, 'Accuracy_score': score,'Cross_val_score':cvs,\n",
    "                     'Mean_squared_error':mse,'Root_Mean_Squared_error':rmse})\n",
    "result"
   ]
  },
  {
   "cell_type": "markdown",
   "id": "4ac2844e",
   "metadata": {},
   "source": [
    "From the above results, we can say that Random Forest Regressor is performing well among all with an accuracy_score of 98.72 and cross_validation_score of 85.09. Now, we will perform hyperparameter tuning for improving the accuracy of the model"
   ]
  },
  {
   "cell_type": "markdown",
   "id": "88737182",
   "metadata": {},
   "source": [
    "# Hyperparameter Tuning"
   ]
  },
  {
   "cell_type": "markdown",
   "id": "18af73f3",
   "metadata": {},
   "source": [
    "# A technique used to find out the best parameter for our model to improve the accuracy"
   ]
  },
  {
   "cell_type": "code",
   "execution_count": 90,
   "id": "69c3d700",
   "metadata": {},
   "outputs": [],
   "source": [
    "#Creating parameter list to pass in GridSearchCV\n",
    "parameters={\"n_estimators\":[10,20,30,50,100,150,200,400,500,1000]}"
   ]
  },
  {
   "cell_type": "code",
   "execution_count": 91,
   "id": "414386d8",
   "metadata": {},
   "outputs": [
    {
     "name": "stdout",
     "output_type": "stream",
     "text": [
      "Final Accuracy:  98.62691383902819\n"
     ]
    }
   ],
   "source": [
    "#Using GridSearchCV to run the parameters and checking final accuracy\n",
    "from sklearn.model_selection import GridSearchCV\n",
    "rfr=RandomForestRegressor()\n",
    "clf=GridSearchCV(rfr,parameters,cv=5,scoring='r2')\n",
    "clf.fit(x_train,y_train)\n",
    "clf.best_estimator_  #Finding the best estimator\n",
    "clf_pred=clf.best_estimator_.predict(x_test)  #Predicting value using best estimator\n",
    "print('Final Accuracy: ',r2_score(y_test,clf_pred)*100)"
   ]
  },
  {
   "cell_type": "markdown",
   "id": "478210e2",
   "metadata": {},
   "source": [
    "After hyperparameter tuning technique, we can see that the accuracy has been increased from 98.72 to 98.74 which is a good increase. We can conclude that this technique is effective in increasing a model accuracy"
   ]
  },
  {
   "cell_type": "code",
   "execution_count": 92,
   "id": "66bf6d54",
   "metadata": {},
   "outputs": [
    {
     "data": {
      "text/plain": [
       "{'n_estimators': 500}"
      ]
     },
     "execution_count": 92,
     "metadata": {},
     "output_type": "execute_result"
    }
   ],
   "source": [
    "clf.best_params_ #Checking the best parameter used"
   ]
  },
  {
   "cell_type": "markdown",
   "id": "20926b6c",
   "metadata": {},
   "source": [
    "The best parameter used for the increase in the accuracy is 400"
   ]
  },
  {
   "cell_type": "markdown",
   "id": "235e26cf",
   "metadata": {},
   "source": [
    "Conclusion\n",
    "-> The given dataset for BigMart is a very good dataset for predicting the Item_Outlet_Sales value.\n",
    "\n",
    "-> The best algorithm for this dataset is the Random Forest Regressor Algorithm which gave an accuracy of 98.72 and cross_val_score of 85.09.\n",
    "\n",
    "-> In order to improve the accuracy, we used hyperparameter tuning technique and from that we increased the accuracy of the model from 98.72 to 98.74.\n",
    "\n",
    "-> By achieving a good accuracy and cross validation score, our model is ready for deployment."
   ]
  },
  {
   "cell_type": "markdown",
   "id": "29feebd1",
   "metadata": {},
   "source": [
    "# Serialization"
   ]
  },
  {
   "cell_type": "code",
   "execution_count": 93,
   "id": "a1fb699c",
   "metadata": {},
   "outputs": [
    {
     "data": {
      "text/plain": [
       "['BigMartSalesProject.obj']"
      ]
     },
     "execution_count": 93,
     "metadata": {},
     "output_type": "execute_result"
    }
   ],
   "source": [
    "import joblib\n",
    "joblib.dump(rfr,'BigMartSalesProject.obj')"
   ]
  },
  {
   "cell_type": "code",
   "execution_count": null,
   "id": "66587551",
   "metadata": {},
   "outputs": [],
   "source": []
  }
 ],
 "metadata": {
  "kernelspec": {
   "display_name": "Python 3",
   "language": "python",
   "name": "python3"
  },
  "language_info": {
   "codemirror_mode": {
    "name": "ipython",
    "version": 3
   },
   "file_extension": ".py",
   "mimetype": "text/x-python",
   "name": "python",
   "nbconvert_exporter": "python",
   "pygments_lexer": "ipython3",
   "version": "3.8.8"
  }
 },
 "nbformat": 4,
 "nbformat_minor": 5
}
